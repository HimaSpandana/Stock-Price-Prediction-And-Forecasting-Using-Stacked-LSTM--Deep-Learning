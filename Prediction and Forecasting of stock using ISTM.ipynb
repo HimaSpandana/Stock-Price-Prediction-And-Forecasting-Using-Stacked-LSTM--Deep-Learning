{
 "cells": [
  {
   "cell_type": "markdown",
   "id": "b5122023",
   "metadata": {},
   "source": [
    "#### Hello welcome my name is Hima Barla,lets start the project"
   ]
  },
  {
   "cell_type": "markdown",
   "id": "37d37dc1",
   "metadata": {},
   "source": [
    "### Stock Price Prediction And Forecasting Using Stacked LSTM- Deep Learning\n",
    "\n",
    "Steps that we perform in the projet\n",
    "\n",
    "1.Collect the stock data- AAPL and do data investigation\n",
    "\n",
    "2.Preprocess the data - Train and Test the data\n",
    "\n",
    "3.Create an stacked LSTM model \n",
    "\n",
    "4.Predict and plot the output of the test data\n",
    "\n",
    "5.Predict the future for the next 30 days and plot the output\n",
    "\n",
    "Im using pandas-datareader which is Up-to-date remote data access for pandas. Works for multiple versions of pandas.\n",
    "\n",
    "we can extract data from various Internet sources into a pandas DataFrame. In this project im using Tingo\n",
    "\n",
    "Tingo: Tiingo is a tracing platform that provides a data api with historical end-of-day prices on equities, mutual funds and ETFs."
   ]
  },
  {
   "cell_type": "code",
   "execution_count": 100,
   "id": "1775ff61",
   "metadata": {},
   "outputs": [],
   "source": [
    "# Keras and Tensorflow > 2.3"
   ]
  },
  {
   "cell_type": "code",
   "execution_count": 3,
   "id": "51205c8e",
   "metadata": {},
   "outputs": [
    {
     "name": "stdout",
     "output_type": "stream",
     "text": [
      "Collecting pandas_datareaderNote: you may need to restart the kernel to use updated packages.\n",
      "  Downloading pandas_datareader-0.10.0-py3-none-any.whl (109 kB)\n",
      "Collecting lxml\n",
      "  Downloading lxml-4.6.5-cp38-cp38-win_amd64.whl (3.6 MB)\n",
      "Requirement already satisfied: pandas>=0.23 in c:\\users\\spand\\.conda\\envs\\tensorflow\\lib\\site-packages (from pandas_datareader) (1.3.3)\n",
      "Requirement already satisfied: requests>=2.19.0 in c:\\users\\spand\\.conda\\envs\\tensorflow\\lib\\site-packages (from pandas_datareader) (2.26.0)\n",
      "Requirement already satisfied: numpy>=1.17.3 in c:\\users\\spand\\.conda\\envs\\tensorflow\\lib\\site-packages (from pandas>=0.23->pandas_datareader) (1.19.2)\n",
      "Requirement already satisfied: pytz>=2017.3 in c:\\users\\spand\\.conda\\envs\\tensorflow\\lib\\site-packages (from pandas>=0.23->pandas_datareader) (2021.3)\n",
      "Requirement already satisfied: python-dateutil>=2.7.3 in c:\\users\\spand\\.conda\\envs\\tensorflow\\lib\\site-packages (from pandas>=0.23->pandas_datareader) (2.8.2)\n",
      "Requirement already satisfied: six>=1.5 in c:\\users\\spand\\appdata\\roaming\\python\\python38\\site-packages (from python-dateutil>=2.7.3->pandas>=0.23->pandas_datareader) (1.14.0)\n",
      "Requirement already satisfied: idna<4,>=2.5 in c:\\users\\spand\\.conda\\envs\\tensorflow\\lib\\site-packages (from requests>=2.19.0->pandas_datareader) (3.2)\n",
      "Requirement already satisfied: charset-normalizer~=2.0.0 in c:\\users\\spand\\.conda\\envs\\tensorflow\\lib\\site-packages (from requests>=2.19.0->pandas_datareader) (2.0.4)\n",
      "Requirement already satisfied: urllib3<1.27,>=1.21.1 in c:\\users\\spand\\.conda\\envs\\tensorflow\\lib\\site-packages (from requests>=2.19.0->pandas_datareader) (1.26.7)\n",
      "Requirement already satisfied: certifi>=2017.4.17 in c:\\users\\spand\\.conda\\envs\\tensorflow\\lib\\site-packages (from requests>=2.19.0->pandas_datareader) (2021.10.8)\n",
      "Installing collected packages: lxml, pandas-datareader\n",
      "Successfully installed lxml-4.6.5 pandas-datareader-0.10.0\n",
      "\n"
     ]
    }
   ],
   "source": [
    "pip install pandas_datareader"
   ]
  },
  {
   "cell_type": "code",
   "execution_count": 92,
   "id": "b2d47e71",
   "metadata": {},
   "outputs": [],
   "source": [
    "# Importing the libraries  for data collection \n",
    "import pandas as pd\n",
    "\n",
    "import numpy as np \n",
    "\n",
    "import pandas_datareader as pdr\n",
    "\n",
    "import matplotlib.pyplot as plt \n",
    "\n",
    "import seaborn as sns\n",
    "\n",
    "from sklearn.preprocessing import MinMaxScaler\n",
    "\n",
    "\n",
    "# To create stacked LSTM (Long short term memory) model\n",
    "from tensorflow.keras.models import Sequential\n",
    "from tensorflow.keras.layers import Dense\n",
    "from tensorflow.keras.layers import LSTM"
   ]
  },
  {
   "cell_type": "code",
   "execution_count": 22,
   "id": "99f1a06a",
   "metadata": {},
   "outputs": [
    {
     "name": "stderr",
     "output_type": "stream",
     "text": [
      "C:\\Users\\spand\\.conda\\envs\\tensorflow\\lib\\site-packages\\pandas_datareader\\tiingo.py:234: FutureWarning: In a future version of pandas all arguments of concat except for the argument 'objs' will be keyword-only\n",
      "  return pd.concat(dfs, self._concat_axis)\n"
     ]
    }
   ],
   "source": [
    "df = pdr.get_data_tiingo('AAPL', api_key='KEY')\n",
    "\n",
    "#Here i used my Tiingo API key( which im not showing you in the project, as its sensitive)\n",
    "#The stcok which im working is AAPL. Apple Computer, Inc. ( stock symbol)"
   ]
  },
  {
   "cell_type": "code",
   "execution_count": 49,
   "id": "0a592615",
   "metadata": {},
   "outputs": [],
   "source": [
    "df.to_csv('AAPL.csv')"
   ]
  },
  {
   "cell_type": "code",
   "execution_count": 50,
   "id": "a88dd299",
   "metadata": {},
   "outputs": [],
   "source": [
    "df=pd.read_csv('AAPL.csv')"
   ]
  },
  {
   "cell_type": "markdown",
   "id": "e9cbb051",
   "metadata": {},
   "source": [
    "### Data Investigation "
   ]
  },
  {
   "cell_type": "code",
   "execution_count": 51,
   "id": "5db1de94",
   "metadata": {},
   "outputs": [
    {
     "data": {
      "text/html": [
       "<div>\n",
       "<style scoped>\n",
       "    .dataframe tbody tr th:only-of-type {\n",
       "        vertical-align: middle;\n",
       "    }\n",
       "\n",
       "    .dataframe tbody tr th {\n",
       "        vertical-align: top;\n",
       "    }\n",
       "\n",
       "    .dataframe thead th {\n",
       "        text-align: right;\n",
       "    }\n",
       "</style>\n",
       "<table border=\"1\" class=\"dataframe\">\n",
       "  <thead>\n",
       "    <tr style=\"text-align: right;\">\n",
       "      <th></th>\n",
       "      <th>symbol</th>\n",
       "      <th>date</th>\n",
       "      <th>close</th>\n",
       "      <th>high</th>\n",
       "      <th>low</th>\n",
       "      <th>open</th>\n",
       "      <th>volume</th>\n",
       "      <th>adjClose</th>\n",
       "      <th>adjHigh</th>\n",
       "      <th>adjLow</th>\n",
       "      <th>adjOpen</th>\n",
       "      <th>adjVolume</th>\n",
       "      <th>divCash</th>\n",
       "      <th>splitFactor</th>\n",
       "    </tr>\n",
       "  </thead>\n",
       "  <tbody>\n",
       "    <tr>\n",
       "      <th>0</th>\n",
       "      <td>AAPL</td>\n",
       "      <td>2016-12-14 00:00:00+00:00</td>\n",
       "      <td>115.19</td>\n",
       "      <td>116.20</td>\n",
       "      <td>114.980</td>\n",
       "      <td>115.04</td>\n",
       "      <td>34031834</td>\n",
       "      <td>27.103308</td>\n",
       "      <td>27.340953</td>\n",
       "      <td>27.053897</td>\n",
       "      <td>27.068014</td>\n",
       "      <td>136127336</td>\n",
       "      <td>0.0</td>\n",
       "      <td>1.0</td>\n",
       "    </tr>\n",
       "    <tr>\n",
       "      <th>1</th>\n",
       "      <td>AAPL</td>\n",
       "      <td>2016-12-15 00:00:00+00:00</td>\n",
       "      <td>115.82</td>\n",
       "      <td>116.73</td>\n",
       "      <td>115.230</td>\n",
       "      <td>115.38</td>\n",
       "      <td>46524544</td>\n",
       "      <td>27.251542</td>\n",
       "      <td>27.465658</td>\n",
       "      <td>27.112720</td>\n",
       "      <td>27.148014</td>\n",
       "      <td>186098176</td>\n",
       "      <td>0.0</td>\n",
       "      <td>1.0</td>\n",
       "    </tr>\n",
       "    <tr>\n",
       "      <th>2</th>\n",
       "      <td>AAPL</td>\n",
       "      <td>2016-12-16 00:00:00+00:00</td>\n",
       "      <td>115.97</td>\n",
       "      <td>116.50</td>\n",
       "      <td>115.645</td>\n",
       "      <td>116.47</td>\n",
       "      <td>44351134</td>\n",
       "      <td>27.286836</td>\n",
       "      <td>27.411541</td>\n",
       "      <td>27.210366</td>\n",
       "      <td>27.404482</td>\n",
       "      <td>177404536</td>\n",
       "      <td>0.0</td>\n",
       "      <td>1.0</td>\n",
       "    </tr>\n",
       "    <tr>\n",
       "      <th>3</th>\n",
       "      <td>AAPL</td>\n",
       "      <td>2016-12-19 00:00:00+00:00</td>\n",
       "      <td>116.64</td>\n",
       "      <td>117.38</td>\n",
       "      <td>115.750</td>\n",
       "      <td>115.80</td>\n",
       "      <td>27779423</td>\n",
       "      <td>27.444482</td>\n",
       "      <td>27.618598</td>\n",
       "      <td>27.235072</td>\n",
       "      <td>27.246836</td>\n",
       "      <td>111117692</td>\n",
       "      <td>0.0</td>\n",
       "      <td>1.0</td>\n",
       "    </tr>\n",
       "    <tr>\n",
       "      <th>4</th>\n",
       "      <td>AAPL</td>\n",
       "      <td>2016-12-20 00:00:00+00:00</td>\n",
       "      <td>116.95</td>\n",
       "      <td>117.50</td>\n",
       "      <td>116.680</td>\n",
       "      <td>116.74</td>\n",
       "      <td>21424965</td>\n",
       "      <td>27.517422</td>\n",
       "      <td>27.646833</td>\n",
       "      <td>27.453893</td>\n",
       "      <td>27.468011</td>\n",
       "      <td>85699860</td>\n",
       "      <td>0.0</td>\n",
       "      <td>1.0</td>\n",
       "    </tr>\n",
       "  </tbody>\n",
       "</table>\n",
       "</div>"
      ],
      "text/plain": [
       "  symbol                       date   close    high      low    open  \\\n",
       "0   AAPL  2016-12-14 00:00:00+00:00  115.19  116.20  114.980  115.04   \n",
       "1   AAPL  2016-12-15 00:00:00+00:00  115.82  116.73  115.230  115.38   \n",
       "2   AAPL  2016-12-16 00:00:00+00:00  115.97  116.50  115.645  116.47   \n",
       "3   AAPL  2016-12-19 00:00:00+00:00  116.64  117.38  115.750  115.80   \n",
       "4   AAPL  2016-12-20 00:00:00+00:00  116.95  117.50  116.680  116.74   \n",
       "\n",
       "     volume   adjClose    adjHigh     adjLow    adjOpen  adjVolume  divCash  \\\n",
       "0  34031834  27.103308  27.340953  27.053897  27.068014  136127336      0.0   \n",
       "1  46524544  27.251542  27.465658  27.112720  27.148014  186098176      0.0   \n",
       "2  44351134  27.286836  27.411541  27.210366  27.404482  177404536      0.0   \n",
       "3  27779423  27.444482  27.618598  27.235072  27.246836  111117692      0.0   \n",
       "4  21424965  27.517422  27.646833  27.453893  27.468011   85699860      0.0   \n",
       "\n",
       "   splitFactor  \n",
       "0          1.0  \n",
       "1          1.0  \n",
       "2          1.0  \n",
       "3          1.0  \n",
       "4          1.0  "
      ]
     },
     "execution_count": 51,
     "metadata": {},
     "output_type": "execute_result"
    }
   ],
   "source": [
    "df.head() # shows the first 6 rows of the dataset \n",
    "#The dataset is available from the year 2016"
   ]
  },
  {
   "cell_type": "code",
   "execution_count": 52,
   "id": "a924b194",
   "metadata": {},
   "outputs": [
    {
     "data": {
      "text/html": [
       "<div>\n",
       "<style scoped>\n",
       "    .dataframe tbody tr th:only-of-type {\n",
       "        vertical-align: middle;\n",
       "    }\n",
       "\n",
       "    .dataframe tbody tr th {\n",
       "        vertical-align: top;\n",
       "    }\n",
       "\n",
       "    .dataframe thead th {\n",
       "        text-align: right;\n",
       "    }\n",
       "</style>\n",
       "<table border=\"1\" class=\"dataframe\">\n",
       "  <thead>\n",
       "    <tr style=\"text-align: right;\">\n",
       "      <th></th>\n",
       "      <th>symbol</th>\n",
       "      <th>date</th>\n",
       "      <th>close</th>\n",
       "      <th>high</th>\n",
       "      <th>low</th>\n",
       "      <th>open</th>\n",
       "      <th>volume</th>\n",
       "      <th>adjClose</th>\n",
       "      <th>adjHigh</th>\n",
       "      <th>adjLow</th>\n",
       "      <th>adjOpen</th>\n",
       "      <th>adjVolume</th>\n",
       "      <th>divCash</th>\n",
       "      <th>splitFactor</th>\n",
       "    </tr>\n",
       "  </thead>\n",
       "  <tbody>\n",
       "    <tr>\n",
       "      <th>1252</th>\n",
       "      <td>AAPL</td>\n",
       "      <td>2021-12-06 00:00:00+00:00</td>\n",
       "      <td>165.32</td>\n",
       "      <td>167.8799</td>\n",
       "      <td>164.28</td>\n",
       "      <td>164.290</td>\n",
       "      <td>107496982</td>\n",
       "      <td>165.32</td>\n",
       "      <td>167.8799</td>\n",
       "      <td>164.28</td>\n",
       "      <td>164.290</td>\n",
       "      <td>107496982</td>\n",
       "      <td>0.0</td>\n",
       "      <td>1.0</td>\n",
       "    </tr>\n",
       "    <tr>\n",
       "      <th>1253</th>\n",
       "      <td>AAPL</td>\n",
       "      <td>2021-12-07 00:00:00+00:00</td>\n",
       "      <td>171.18</td>\n",
       "      <td>171.5800</td>\n",
       "      <td>168.34</td>\n",
       "      <td>169.080</td>\n",
       "      <td>120405352</td>\n",
       "      <td>171.18</td>\n",
       "      <td>171.5800</td>\n",
       "      <td>168.34</td>\n",
       "      <td>169.080</td>\n",
       "      <td>120405352</td>\n",
       "      <td>0.0</td>\n",
       "      <td>1.0</td>\n",
       "    </tr>\n",
       "    <tr>\n",
       "      <th>1254</th>\n",
       "      <td>AAPL</td>\n",
       "      <td>2021-12-08 00:00:00+00:00</td>\n",
       "      <td>175.08</td>\n",
       "      <td>175.9600</td>\n",
       "      <td>170.70</td>\n",
       "      <td>172.125</td>\n",
       "      <td>116998901</td>\n",
       "      <td>175.08</td>\n",
       "      <td>175.9600</td>\n",
       "      <td>170.70</td>\n",
       "      <td>172.125</td>\n",
       "      <td>116998901</td>\n",
       "      <td>0.0</td>\n",
       "      <td>1.0</td>\n",
       "    </tr>\n",
       "    <tr>\n",
       "      <th>1255</th>\n",
       "      <td>AAPL</td>\n",
       "      <td>2021-12-09 00:00:00+00:00</td>\n",
       "      <td>174.56</td>\n",
       "      <td>176.7500</td>\n",
       "      <td>173.92</td>\n",
       "      <td>174.910</td>\n",
       "      <td>108923739</td>\n",
       "      <td>174.56</td>\n",
       "      <td>176.7500</td>\n",
       "      <td>173.92</td>\n",
       "      <td>174.910</td>\n",
       "      <td>108923739</td>\n",
       "      <td>0.0</td>\n",
       "      <td>1.0</td>\n",
       "    </tr>\n",
       "    <tr>\n",
       "      <th>1256</th>\n",
       "      <td>AAPL</td>\n",
       "      <td>2021-12-10 00:00:00+00:00</td>\n",
       "      <td>179.45</td>\n",
       "      <td>179.6300</td>\n",
       "      <td>174.69</td>\n",
       "      <td>175.205</td>\n",
       "      <td>115402731</td>\n",
       "      <td>179.45</td>\n",
       "      <td>179.6300</td>\n",
       "      <td>174.69</td>\n",
       "      <td>175.205</td>\n",
       "      <td>115402731</td>\n",
       "      <td>0.0</td>\n",
       "      <td>1.0</td>\n",
       "    </tr>\n",
       "  </tbody>\n",
       "</table>\n",
       "</div>"
      ],
      "text/plain": [
       "     symbol                       date   close      high     low     open  \\\n",
       "1252   AAPL  2021-12-06 00:00:00+00:00  165.32  167.8799  164.28  164.290   \n",
       "1253   AAPL  2021-12-07 00:00:00+00:00  171.18  171.5800  168.34  169.080   \n",
       "1254   AAPL  2021-12-08 00:00:00+00:00  175.08  175.9600  170.70  172.125   \n",
       "1255   AAPL  2021-12-09 00:00:00+00:00  174.56  176.7500  173.92  174.910   \n",
       "1256   AAPL  2021-12-10 00:00:00+00:00  179.45  179.6300  174.69  175.205   \n",
       "\n",
       "         volume  adjClose   adjHigh  adjLow  adjOpen  adjVolume  divCash  \\\n",
       "1252  107496982    165.32  167.8799  164.28  164.290  107496982      0.0   \n",
       "1253  120405352    171.18  171.5800  168.34  169.080  120405352      0.0   \n",
       "1254  116998901    175.08  175.9600  170.70  172.125  116998901      0.0   \n",
       "1255  108923739    174.56  176.7500  173.92  174.910  108923739      0.0   \n",
       "1256  115402731    179.45  179.6300  174.69  175.205  115402731      0.0   \n",
       "\n",
       "      splitFactor  \n",
       "1252          1.0  \n",
       "1253          1.0  \n",
       "1254          1.0  \n",
       "1255          1.0  \n",
       "1256          1.0  "
      ]
     },
     "execution_count": 52,
     "metadata": {},
     "output_type": "execute_result"
    }
   ],
   "source": [
    "df.tail() # the data avaiable from 2016 to 10/dec/2021 "
   ]
  },
  {
   "cell_type": "code",
   "execution_count": 53,
   "id": "62a366c4",
   "metadata": {},
   "outputs": [
    {
     "data": {
      "text/plain": [
       "Index(['symbol', 'date', 'close', 'high', 'low', 'open', 'volume', 'adjClose',\n",
       "       'adjHigh', 'adjLow', 'adjOpen', 'adjVolume', 'divCash', 'splitFactor'],\n",
       "      dtype='object')"
      ]
     },
     "execution_count": 53,
     "metadata": {},
     "output_type": "execute_result"
    }
   ],
   "source": [
    "#feature names \n",
    "df.columns"
   ]
  },
  {
   "cell_type": "code",
   "execution_count": 54,
   "id": "4d11ac25",
   "metadata": {},
   "outputs": [
    {
     "data": {
      "text/plain": [
       "(1257, 14)"
      ]
     },
     "execution_count": 54,
     "metadata": {},
     "output_type": "execute_result"
    }
   ],
   "source": [
    "df.shape # size of the dataset"
   ]
  },
  {
   "cell_type": "code",
   "execution_count": 55,
   "id": "485d34fe",
   "metadata": {},
   "outputs": [
    {
     "data": {
      "text/plain": [
       "symbol         0\n",
       "date           0\n",
       "close          0\n",
       "high           0\n",
       "low            0\n",
       "open           0\n",
       "volume         0\n",
       "adjClose       0\n",
       "adjHigh        0\n",
       "adjLow         0\n",
       "adjOpen        0\n",
       "adjVolume      0\n",
       "divCash        0\n",
       "splitFactor    0\n",
       "dtype: int64"
      ]
     },
     "execution_count": 55,
     "metadata": {},
     "output_type": "execute_result"
    }
   ],
   "source": [
    "#Identify the missing values in the dataset\n",
    "df.isnull().sum() # No null values in the dataset"
   ]
  },
  {
   "cell_type": "code",
   "execution_count": 56,
   "id": "2a8717e5",
   "metadata": {},
   "outputs": [
    {
     "name": "stdout",
     "output_type": "stream",
     "text": [
      "<class 'pandas.core.frame.DataFrame'>\n",
      "RangeIndex: 1257 entries, 0 to 1256\n",
      "Data columns (total 14 columns):\n",
      " #   Column       Non-Null Count  Dtype  \n",
      "---  ------       --------------  -----  \n",
      " 0   symbol       1257 non-null   object \n",
      " 1   date         1257 non-null   object \n",
      " 2   close        1257 non-null   float64\n",
      " 3   high         1257 non-null   float64\n",
      " 4   low          1257 non-null   float64\n",
      " 5   open         1257 non-null   float64\n",
      " 6   volume       1257 non-null   int64  \n",
      " 7   adjClose     1257 non-null   float64\n",
      " 8   adjHigh      1257 non-null   float64\n",
      " 9   adjLow       1257 non-null   float64\n",
      " 10  adjOpen      1257 non-null   float64\n",
      " 11  adjVolume    1257 non-null   int64  \n",
      " 12  divCash      1257 non-null   float64\n",
      " 13  splitFactor  1257 non-null   float64\n",
      "dtypes: float64(10), int64(2), object(2)\n",
      "memory usage: 137.6+ KB\n"
     ]
    }
   ],
   "source": [
    "df.info()\n",
    "#There are 1257 entries with 11 variables and the datatype is float64(no catogorical variables in the dataset) \n",
    "#and lastly no missing values found in the dataset"
   ]
  },
  {
   "cell_type": "code",
   "execution_count": 57,
   "id": "65be4786",
   "metadata": {},
   "outputs": [
    {
     "data": {
      "text/html": [
       "<div>\n",
       "<style scoped>\n",
       "    .dataframe tbody tr th:only-of-type {\n",
       "        vertical-align: middle;\n",
       "    }\n",
       "\n",
       "    .dataframe tbody tr th {\n",
       "        vertical-align: top;\n",
       "    }\n",
       "\n",
       "    .dataframe thead th {\n",
       "        text-align: right;\n",
       "    }\n",
       "</style>\n",
       "<table border=\"1\" class=\"dataframe\">\n",
       "  <thead>\n",
       "    <tr style=\"text-align: right;\">\n",
       "      <th></th>\n",
       "      <th>count</th>\n",
       "      <th>mean</th>\n",
       "      <th>std</th>\n",
       "      <th>min</th>\n",
       "      <th>25%</th>\n",
       "      <th>50%</th>\n",
       "      <th>75%</th>\n",
       "      <th>max</th>\n",
       "    </tr>\n",
       "  </thead>\n",
       "  <tbody>\n",
       "    <tr>\n",
       "      <th>close</th>\n",
       "      <td>1257.0</td>\n",
       "      <td>1.892940e+02</td>\n",
       "      <td>6.998534e+01</td>\n",
       "      <td>1.068400e+02</td>\n",
       "      <td>1.436500e+02</td>\n",
       "      <td>1.708900e+02</td>\n",
       "      <td>2.096800e+02</td>\n",
       "      <td>5.060900e+02</td>\n",
       "    </tr>\n",
       "    <tr>\n",
       "      <th>high</th>\n",
       "      <td>1257.0</td>\n",
       "      <td>1.910979e+02</td>\n",
       "      <td>7.076207e+01</td>\n",
       "      <td>1.101900e+02</td>\n",
       "      <td>1.445000e+02</td>\n",
       "      <td>1.720100e+02</td>\n",
       "      <td>2.120500e+02</td>\n",
       "      <td>5.151400e+02</td>\n",
       "    </tr>\n",
       "    <tr>\n",
       "      <th>low</th>\n",
       "      <td>1257.0</td>\n",
       "      <td>1.872328e+02</td>\n",
       "      <td>6.886711e+01</td>\n",
       "      <td>1.031000e+02</td>\n",
       "      <td>1.426522e+02</td>\n",
       "      <td>1.693800e+02</td>\n",
       "      <td>2.077000e+02</td>\n",
       "      <td>5.003300e+02</td>\n",
       "    </tr>\n",
       "    <tr>\n",
       "      <th>open</th>\n",
       "      <td>1257.0</td>\n",
       "      <td>1.890650e+02</td>\n",
       "      <td>6.970106e+01</td>\n",
       "      <td>1.045400e+02</td>\n",
       "      <td>1.436600e+02</td>\n",
       "      <td>1.705200e+02</td>\n",
       "      <td>2.098800e+02</td>\n",
       "      <td>5.147900e+02</td>\n",
       "    </tr>\n",
       "    <tr>\n",
       "      <th>volume</th>\n",
       "      <td>1257.0</td>\n",
       "      <td>4.968023e+07</td>\n",
       "      <td>3.898360e+07</td>\n",
       "      <td>1.136204e+07</td>\n",
       "      <td>2.371296e+07</td>\n",
       "      <td>3.343281e+07</td>\n",
       "      <td>6.482733e+07</td>\n",
       "      <td>3.326072e+08</td>\n",
       "    </tr>\n",
       "    <tr>\n",
       "      <th>adjClose</th>\n",
       "      <td>1257.0</td>\n",
       "      <td>7.196563e+01</td>\n",
       "      <td>3.997320e+01</td>\n",
       "      <td>2.710331e+01</td>\n",
       "      <td>4.117672e+01</td>\n",
       "      <td>5.166632e+01</td>\n",
       "      <td>1.140490e+02</td>\n",
       "      <td>1.794500e+02</td>\n",
       "    </tr>\n",
       "    <tr>\n",
       "      <th>adjHigh</th>\n",
       "      <td>1257.0</td>\n",
       "      <td>7.268792e+01</td>\n",
       "      <td>4.042287e+01</td>\n",
       "      <td>2.734095e+01</td>\n",
       "      <td>4.155142e+01</td>\n",
       "      <td>5.247438e+01</td>\n",
       "      <td>1.151329e+02</td>\n",
       "      <td>1.796300e+02</td>\n",
       "    </tr>\n",
       "    <tr>\n",
       "      <th>adjLow</th>\n",
       "      <td>1257.0</td>\n",
       "      <td>7.116046e+01</td>\n",
       "      <td>3.946303e+01</td>\n",
       "      <td>2.700213e+01</td>\n",
       "      <td>4.083242e+01</td>\n",
       "      <td>5.143076e+01</td>\n",
       "      <td>1.119004e+02</td>\n",
       "      <td>1.746900e+02</td>\n",
       "    </tr>\n",
       "    <tr>\n",
       "      <th>adjOpen</th>\n",
       "      <td>1257.0</td>\n",
       "      <td>7.190126e+01</td>\n",
       "      <td>3.993798e+01</td>\n",
       "      <td>2.706801e+01</td>\n",
       "      <td>4.124175e+01</td>\n",
       "      <td>5.179404e+01</td>\n",
       "      <td>1.136720e+02</td>\n",
       "      <td>1.752050e+02</td>\n",
       "    </tr>\n",
       "    <tr>\n",
       "      <th>adjVolume</th>\n",
       "      <td>1257.0</td>\n",
       "      <td>1.204881e+08</td>\n",
       "      <td>5.590992e+07</td>\n",
       "      <td>4.099995e+07</td>\n",
       "      <td>8.360323e+07</td>\n",
       "      <td>1.054255e+08</td>\n",
       "      <td>1.402233e+08</td>\n",
       "      <td>4.479402e+08</td>\n",
       "    </tr>\n",
       "    <tr>\n",
       "      <th>divCash</th>\n",
       "      <td>1257.0</td>\n",
       "      <td>9.387430e-03</td>\n",
       "      <td>7.920273e-02</td>\n",
       "      <td>0.000000e+00</td>\n",
       "      <td>0.000000e+00</td>\n",
       "      <td>0.000000e+00</td>\n",
       "      <td>0.000000e+00</td>\n",
       "      <td>8.200000e-01</td>\n",
       "    </tr>\n",
       "    <tr>\n",
       "      <th>splitFactor</th>\n",
       "      <td>1257.0</td>\n",
       "      <td>1.002387e+00</td>\n",
       "      <td>8.461622e-02</td>\n",
       "      <td>1.000000e+00</td>\n",
       "      <td>1.000000e+00</td>\n",
       "      <td>1.000000e+00</td>\n",
       "      <td>1.000000e+00</td>\n",
       "      <td>4.000000e+00</td>\n",
       "    </tr>\n",
       "  </tbody>\n",
       "</table>\n",
       "</div>"
      ],
      "text/plain": [
       "              count          mean           std           min           25%  \\\n",
       "close        1257.0  1.892940e+02  6.998534e+01  1.068400e+02  1.436500e+02   \n",
       "high         1257.0  1.910979e+02  7.076207e+01  1.101900e+02  1.445000e+02   \n",
       "low          1257.0  1.872328e+02  6.886711e+01  1.031000e+02  1.426522e+02   \n",
       "open         1257.0  1.890650e+02  6.970106e+01  1.045400e+02  1.436600e+02   \n",
       "volume       1257.0  4.968023e+07  3.898360e+07  1.136204e+07  2.371296e+07   \n",
       "adjClose     1257.0  7.196563e+01  3.997320e+01  2.710331e+01  4.117672e+01   \n",
       "adjHigh      1257.0  7.268792e+01  4.042287e+01  2.734095e+01  4.155142e+01   \n",
       "adjLow       1257.0  7.116046e+01  3.946303e+01  2.700213e+01  4.083242e+01   \n",
       "adjOpen      1257.0  7.190126e+01  3.993798e+01  2.706801e+01  4.124175e+01   \n",
       "adjVolume    1257.0  1.204881e+08  5.590992e+07  4.099995e+07  8.360323e+07   \n",
       "divCash      1257.0  9.387430e-03  7.920273e-02  0.000000e+00  0.000000e+00   \n",
       "splitFactor  1257.0  1.002387e+00  8.461622e-02  1.000000e+00  1.000000e+00   \n",
       "\n",
       "                      50%           75%           max  \n",
       "close        1.708900e+02  2.096800e+02  5.060900e+02  \n",
       "high         1.720100e+02  2.120500e+02  5.151400e+02  \n",
       "low          1.693800e+02  2.077000e+02  5.003300e+02  \n",
       "open         1.705200e+02  2.098800e+02  5.147900e+02  \n",
       "volume       3.343281e+07  6.482733e+07  3.326072e+08  \n",
       "adjClose     5.166632e+01  1.140490e+02  1.794500e+02  \n",
       "adjHigh      5.247438e+01  1.151329e+02  1.796300e+02  \n",
       "adjLow       5.143076e+01  1.119004e+02  1.746900e+02  \n",
       "adjOpen      5.179404e+01  1.136720e+02  1.752050e+02  \n",
       "adjVolume    1.054255e+08  1.402233e+08  4.479402e+08  \n",
       "divCash      0.000000e+00  0.000000e+00  8.200000e-01  \n",
       "splitFactor  1.000000e+00  1.000000e+00  4.000000e+00  "
      ]
     },
     "execution_count": 57,
     "metadata": {},
     "output_type": "execute_result"
    }
   ],
   "source": [
    "#Statistical summary of the numerical variables\n",
    "df.describe().T #(25%, 50%, 75%)"
   ]
  },
  {
   "cell_type": "code",
   "execution_count": 58,
   "id": "f064a6ef",
   "metadata": {},
   "outputs": [
    {
     "data": {
      "text/html": [
       "<div>\n",
       "<style scoped>\n",
       "    .dataframe tbody tr th:only-of-type {\n",
       "        vertical-align: middle;\n",
       "    }\n",
       "\n",
       "    .dataframe tbody tr th {\n",
       "        vertical-align: top;\n",
       "    }\n",
       "\n",
       "    .dataframe thead th {\n",
       "        text-align: right;\n",
       "    }\n",
       "</style>\n",
       "<table border=\"1\" class=\"dataframe\">\n",
       "  <thead>\n",
       "    <tr style=\"text-align: right;\">\n",
       "      <th></th>\n",
       "      <th>count</th>\n",
       "      <th>mean</th>\n",
       "      <th>std</th>\n",
       "      <th>min</th>\n",
       "      <th>10%</th>\n",
       "      <th>25%</th>\n",
       "      <th>45%</th>\n",
       "      <th>50%</th>\n",
       "      <th>55%</th>\n",
       "      <th>75%</th>\n",
       "      <th>95%</th>\n",
       "      <th>max</th>\n",
       "    </tr>\n",
       "  </thead>\n",
       "  <tbody>\n",
       "    <tr>\n",
       "      <th>close</th>\n",
       "      <td>1257.0</td>\n",
       "      <td>1.892940e+02</td>\n",
       "      <td>6.998534e+01</td>\n",
       "      <td>1.068400e+02</td>\n",
       "      <td>1.243400e+02</td>\n",
       "      <td>1.436500e+02</td>\n",
       "      <td>1.629160e+02</td>\n",
       "      <td>1.708900e+02</td>\n",
       "      <td>1.747100e+02</td>\n",
       "      <td>2.096800e+02</td>\n",
       "      <td>3.249840e+02</td>\n",
       "      <td>5.060900e+02</td>\n",
       "    </tr>\n",
       "    <tr>\n",
       "      <th>high</th>\n",
       "      <td>1257.0</td>\n",
       "      <td>1.910979e+02</td>\n",
       "      <td>7.076207e+01</td>\n",
       "      <td>1.101900e+02</td>\n",
       "      <td>1.254920e+02</td>\n",
       "      <td>1.445000e+02</td>\n",
       "      <td>1.643680e+02</td>\n",
       "      <td>1.720100e+02</td>\n",
       "      <td>1.754900e+02</td>\n",
       "      <td>2.120500e+02</td>\n",
       "      <td>3.262040e+02</td>\n",
       "      <td>5.151400e+02</td>\n",
       "    </tr>\n",
       "    <tr>\n",
       "      <th>low</th>\n",
       "      <td>1257.0</td>\n",
       "      <td>1.872328e+02</td>\n",
       "      <td>6.886711e+01</td>\n",
       "      <td>1.031000e+02</td>\n",
       "      <td>1.223016e+02</td>\n",
       "      <td>1.426522e+02</td>\n",
       "      <td>1.602560e+02</td>\n",
       "      <td>1.693800e+02</td>\n",
       "      <td>1.733220e+02</td>\n",
       "      <td>2.077000e+02</td>\n",
       "      <td>3.216360e+02</td>\n",
       "      <td>5.003300e+02</td>\n",
       "    </tr>\n",
       "    <tr>\n",
       "      <th>open</th>\n",
       "      <td>1257.0</td>\n",
       "      <td>1.890650e+02</td>\n",
       "      <td>6.970106e+01</td>\n",
       "      <td>1.045400e+02</td>\n",
       "      <td>1.240620e+02</td>\n",
       "      <td>1.436600e+02</td>\n",
       "      <td>1.626380e+02</td>\n",
       "      <td>1.705200e+02</td>\n",
       "      <td>1.746380e+02</td>\n",
       "      <td>2.098800e+02</td>\n",
       "      <td>3.242300e+02</td>\n",
       "      <td>5.147900e+02</td>\n",
       "    </tr>\n",
       "    <tr>\n",
       "      <th>volume</th>\n",
       "      <td>1257.0</td>\n",
       "      <td>4.968023e+07</td>\n",
       "      <td>3.898360e+07</td>\n",
       "      <td>1.136204e+07</td>\n",
       "      <td>1.930310e+07</td>\n",
       "      <td>2.371296e+07</td>\n",
       "      <td>3.138139e+07</td>\n",
       "      <td>3.343281e+07</td>\n",
       "      <td>3.640857e+07</td>\n",
       "      <td>6.482733e+07</td>\n",
       "      <td>1.251467e+08</td>\n",
       "      <td>3.326072e+08</td>\n",
       "    </tr>\n",
       "    <tr>\n",
       "      <th>adjClose</th>\n",
       "      <td>1257.0</td>\n",
       "      <td>7.196563e+01</td>\n",
       "      <td>3.997320e+01</td>\n",
       "      <td>2.710331e+01</td>\n",
       "      <td>3.548071e+01</td>\n",
       "      <td>4.117672e+01</td>\n",
       "      <td>4.946199e+01</td>\n",
       "      <td>5.166632e+01</td>\n",
       "      <td>5.468977e+01</td>\n",
       "      <td>1.140490e+02</td>\n",
       "      <td>1.478770e+02</td>\n",
       "      <td>1.794500e+02</td>\n",
       "    </tr>\n",
       "    <tr>\n",
       "      <th>adjHigh</th>\n",
       "      <td>1257.0</td>\n",
       "      <td>7.268792e+01</td>\n",
       "      <td>4.042287e+01</td>\n",
       "      <td>2.734095e+01</td>\n",
       "      <td>3.565961e+01</td>\n",
       "      <td>4.155142e+01</td>\n",
       "      <td>4.980915e+01</td>\n",
       "      <td>5.247438e+01</td>\n",
       "      <td>5.497701e+01</td>\n",
       "      <td>1.151329e+02</td>\n",
       "      <td>1.487822e+02</td>\n",
       "      <td>1.796300e+02</td>\n",
       "    </tr>\n",
       "    <tr>\n",
       "      <th>adjLow</th>\n",
       "      <td>1257.0</td>\n",
       "      <td>7.116046e+01</td>\n",
       "      <td>3.946303e+01</td>\n",
       "      <td>2.700213e+01</td>\n",
       "      <td>3.507118e+01</td>\n",
       "      <td>4.083242e+01</td>\n",
       "      <td>4.896610e+01</td>\n",
       "      <td>5.143076e+01</td>\n",
       "      <td>5.382350e+01</td>\n",
       "      <td>1.119004e+02</td>\n",
       "      <td>1.461660e+02</td>\n",
       "      <td>1.746900e+02</td>\n",
       "    </tr>\n",
       "    <tr>\n",
       "      <th>adjOpen</th>\n",
       "      <td>1257.0</td>\n",
       "      <td>7.190126e+01</td>\n",
       "      <td>3.993798e+01</td>\n",
       "      <td>2.706801e+01</td>\n",
       "      <td>3.535068e+01</td>\n",
       "      <td>4.124175e+01</td>\n",
       "      <td>4.939091e+01</td>\n",
       "      <td>5.179404e+01</td>\n",
       "      <td>5.452690e+01</td>\n",
       "      <td>1.136720e+02</td>\n",
       "      <td>1.473452e+02</td>\n",
       "      <td>1.752050e+02</td>\n",
       "    </tr>\n",
       "    <tr>\n",
       "      <th>adjVolume</th>\n",
       "      <td>1257.0</td>\n",
       "      <td>1.204881e+08</td>\n",
       "      <td>5.590992e+07</td>\n",
       "      <td>4.099995e+07</td>\n",
       "      <td>6.959757e+07</td>\n",
       "      <td>8.360323e+07</td>\n",
       "      <td>1.017071e+08</td>\n",
       "      <td>1.054255e+08</td>\n",
       "      <td>1.112968e+08</td>\n",
       "      <td>1.402233e+08</td>\n",
       "      <td>2.308121e+08</td>\n",
       "      <td>4.479402e+08</td>\n",
       "    </tr>\n",
       "    <tr>\n",
       "      <th>divCash</th>\n",
       "      <td>1257.0</td>\n",
       "      <td>9.387430e-03</td>\n",
       "      <td>7.920273e-02</td>\n",
       "      <td>0.000000e+00</td>\n",
       "      <td>0.000000e+00</td>\n",
       "      <td>0.000000e+00</td>\n",
       "      <td>0.000000e+00</td>\n",
       "      <td>0.000000e+00</td>\n",
       "      <td>0.000000e+00</td>\n",
       "      <td>0.000000e+00</td>\n",
       "      <td>0.000000e+00</td>\n",
       "      <td>8.200000e-01</td>\n",
       "    </tr>\n",
       "    <tr>\n",
       "      <th>splitFactor</th>\n",
       "      <td>1257.0</td>\n",
       "      <td>1.002387e+00</td>\n",
       "      <td>8.461622e-02</td>\n",
       "      <td>1.000000e+00</td>\n",
       "      <td>1.000000e+00</td>\n",
       "      <td>1.000000e+00</td>\n",
       "      <td>1.000000e+00</td>\n",
       "      <td>1.000000e+00</td>\n",
       "      <td>1.000000e+00</td>\n",
       "      <td>1.000000e+00</td>\n",
       "      <td>1.000000e+00</td>\n",
       "      <td>4.000000e+00</td>\n",
       "    </tr>\n",
       "  </tbody>\n",
       "</table>\n",
       "</div>"
      ],
      "text/plain": [
       "              count          mean           std           min           10%  \\\n",
       "close        1257.0  1.892940e+02  6.998534e+01  1.068400e+02  1.243400e+02   \n",
       "high         1257.0  1.910979e+02  7.076207e+01  1.101900e+02  1.254920e+02   \n",
       "low          1257.0  1.872328e+02  6.886711e+01  1.031000e+02  1.223016e+02   \n",
       "open         1257.0  1.890650e+02  6.970106e+01  1.045400e+02  1.240620e+02   \n",
       "volume       1257.0  4.968023e+07  3.898360e+07  1.136204e+07  1.930310e+07   \n",
       "adjClose     1257.0  7.196563e+01  3.997320e+01  2.710331e+01  3.548071e+01   \n",
       "adjHigh      1257.0  7.268792e+01  4.042287e+01  2.734095e+01  3.565961e+01   \n",
       "adjLow       1257.0  7.116046e+01  3.946303e+01  2.700213e+01  3.507118e+01   \n",
       "adjOpen      1257.0  7.190126e+01  3.993798e+01  2.706801e+01  3.535068e+01   \n",
       "adjVolume    1257.0  1.204881e+08  5.590992e+07  4.099995e+07  6.959757e+07   \n",
       "divCash      1257.0  9.387430e-03  7.920273e-02  0.000000e+00  0.000000e+00   \n",
       "splitFactor  1257.0  1.002387e+00  8.461622e-02  1.000000e+00  1.000000e+00   \n",
       "\n",
       "                      25%           45%           50%           55%  \\\n",
       "close        1.436500e+02  1.629160e+02  1.708900e+02  1.747100e+02   \n",
       "high         1.445000e+02  1.643680e+02  1.720100e+02  1.754900e+02   \n",
       "low          1.426522e+02  1.602560e+02  1.693800e+02  1.733220e+02   \n",
       "open         1.436600e+02  1.626380e+02  1.705200e+02  1.746380e+02   \n",
       "volume       2.371296e+07  3.138139e+07  3.343281e+07  3.640857e+07   \n",
       "adjClose     4.117672e+01  4.946199e+01  5.166632e+01  5.468977e+01   \n",
       "adjHigh      4.155142e+01  4.980915e+01  5.247438e+01  5.497701e+01   \n",
       "adjLow       4.083242e+01  4.896610e+01  5.143076e+01  5.382350e+01   \n",
       "adjOpen      4.124175e+01  4.939091e+01  5.179404e+01  5.452690e+01   \n",
       "adjVolume    8.360323e+07  1.017071e+08  1.054255e+08  1.112968e+08   \n",
       "divCash      0.000000e+00  0.000000e+00  0.000000e+00  0.000000e+00   \n",
       "splitFactor  1.000000e+00  1.000000e+00  1.000000e+00  1.000000e+00   \n",
       "\n",
       "                      75%           95%           max  \n",
       "close        2.096800e+02  3.249840e+02  5.060900e+02  \n",
       "high         2.120500e+02  3.262040e+02  5.151400e+02  \n",
       "low          2.077000e+02  3.216360e+02  5.003300e+02  \n",
       "open         2.098800e+02  3.242300e+02  5.147900e+02  \n",
       "volume       6.482733e+07  1.251467e+08  3.326072e+08  \n",
       "adjClose     1.140490e+02  1.478770e+02  1.794500e+02  \n",
       "adjHigh      1.151329e+02  1.487822e+02  1.796300e+02  \n",
       "adjLow       1.119004e+02  1.461660e+02  1.746900e+02  \n",
       "adjOpen      1.136720e+02  1.473452e+02  1.752050e+02  \n",
       "adjVolume    1.402233e+08  2.308121e+08  4.479402e+08  \n",
       "divCash      0.000000e+00  0.000000e+00  8.200000e-01  \n",
       "splitFactor  1.000000e+00  1.000000e+00  4.000000e+00  "
      ]
     },
     "execution_count": 58,
     "metadata": {},
     "output_type": "execute_result"
    }
   ],
   "source": [
    "df.describe(percentiles=[0.1,0.25,0.45,0.55,0.75,0.95]).T\n",
    "#Stating from min, 10%, 25%,..... to Maximim Values"
   ]
  },
  {
   "cell_type": "code",
   "execution_count": 59,
   "id": "294f5ee5",
   "metadata": {},
   "outputs": [
    {
     "data": {
      "text/plain": [
       "symbol                              AAPL\n",
       "date           2021-12-10 00:00:00+00:00\n",
       "close                             506.09\n",
       "high                              515.14\n",
       "low                               500.33\n",
       "open                              514.79\n",
       "volume                         332607163\n",
       "adjClose                          179.45\n",
       "adjHigh                           179.63\n",
       "adjLow                            174.69\n",
       "adjOpen                          175.205\n",
       "adjVolume                      447940160\n",
       "divCash                             0.82\n",
       "splitFactor                          4.0\n",
       "dtype: object"
      ]
     },
     "execution_count": 59,
     "metadata": {},
     "output_type": "execute_result"
    }
   ],
   "source": [
    "df.max()  # Gives the maximum value of each variable"
   ]
  },
  {
   "cell_type": "code",
   "execution_count": 60,
   "id": "815f742f",
   "metadata": {},
   "outputs": [
    {
     "data": {
      "text/plain": [
       "symbol                              AAPL\n",
       "date           2016-12-14 00:00:00+00:00\n",
       "close                             106.84\n",
       "high                              110.19\n",
       "low                                103.1\n",
       "open                              104.54\n",
       "volume                          11362045\n",
       "adjClose                       27.103308\n",
       "adjHigh                        27.340953\n",
       "adjLow                         27.002132\n",
       "adjOpen                        27.068014\n",
       "adjVolume                       40999950\n",
       "divCash                              0.0\n",
       "splitFactor                          1.0\n",
       "dtype: object"
      ]
     },
     "execution_count": 60,
     "metadata": {},
     "output_type": "execute_result"
    }
   ],
   "source": [
    "df.min()  # Gives the minimum value of each variable"
   ]
  },
  {
   "cell_type": "code",
   "execution_count": 63,
   "id": "f9cf5588",
   "metadata": {},
   "outputs": [],
   "source": [
    "# Sort DataFrame by date\n",
    "df = df.sort_values('date')"
   ]
  },
  {
   "cell_type": "code",
   "execution_count": 65,
   "id": "829d289a",
   "metadata": {},
   "outputs": [
    {
     "data": {
      "text/html": [
       "<div>\n",
       "<style scoped>\n",
       "    .dataframe tbody tr th:only-of-type {\n",
       "        vertical-align: middle;\n",
       "    }\n",
       "\n",
       "    .dataframe tbody tr th {\n",
       "        vertical-align: top;\n",
       "    }\n",
       "\n",
       "    .dataframe thead th {\n",
       "        text-align: right;\n",
       "    }\n",
       "</style>\n",
       "<table border=\"1\" class=\"dataframe\">\n",
       "  <thead>\n",
       "    <tr style=\"text-align: right;\">\n",
       "      <th></th>\n",
       "      <th>symbol</th>\n",
       "      <th>date</th>\n",
       "      <th>close</th>\n",
       "      <th>high</th>\n",
       "      <th>low</th>\n",
       "      <th>open</th>\n",
       "      <th>volume</th>\n",
       "      <th>adjClose</th>\n",
       "      <th>adjHigh</th>\n",
       "      <th>adjLow</th>\n",
       "      <th>adjOpen</th>\n",
       "      <th>adjVolume</th>\n",
       "      <th>divCash</th>\n",
       "      <th>splitFactor</th>\n",
       "    </tr>\n",
       "  </thead>\n",
       "  <tbody>\n",
       "    <tr>\n",
       "      <th>0</th>\n",
       "      <td>AAPL</td>\n",
       "      <td>2016-12-14 00:00:00+00:00</td>\n",
       "      <td>115.19</td>\n",
       "      <td>116.20</td>\n",
       "      <td>114.980</td>\n",
       "      <td>115.04</td>\n",
       "      <td>34031834</td>\n",
       "      <td>27.103308</td>\n",
       "      <td>27.340953</td>\n",
       "      <td>27.053897</td>\n",
       "      <td>27.068014</td>\n",
       "      <td>136127336</td>\n",
       "      <td>0.0</td>\n",
       "      <td>1.0</td>\n",
       "    </tr>\n",
       "    <tr>\n",
       "      <th>1</th>\n",
       "      <td>AAPL</td>\n",
       "      <td>2016-12-15 00:00:00+00:00</td>\n",
       "      <td>115.82</td>\n",
       "      <td>116.73</td>\n",
       "      <td>115.230</td>\n",
       "      <td>115.38</td>\n",
       "      <td>46524544</td>\n",
       "      <td>27.251542</td>\n",
       "      <td>27.465658</td>\n",
       "      <td>27.112720</td>\n",
       "      <td>27.148014</td>\n",
       "      <td>186098176</td>\n",
       "      <td>0.0</td>\n",
       "      <td>1.0</td>\n",
       "    </tr>\n",
       "    <tr>\n",
       "      <th>2</th>\n",
       "      <td>AAPL</td>\n",
       "      <td>2016-12-16 00:00:00+00:00</td>\n",
       "      <td>115.97</td>\n",
       "      <td>116.50</td>\n",
       "      <td>115.645</td>\n",
       "      <td>116.47</td>\n",
       "      <td>44351134</td>\n",
       "      <td>27.286836</td>\n",
       "      <td>27.411541</td>\n",
       "      <td>27.210366</td>\n",
       "      <td>27.404482</td>\n",
       "      <td>177404536</td>\n",
       "      <td>0.0</td>\n",
       "      <td>1.0</td>\n",
       "    </tr>\n",
       "    <tr>\n",
       "      <th>3</th>\n",
       "      <td>AAPL</td>\n",
       "      <td>2016-12-19 00:00:00+00:00</td>\n",
       "      <td>116.64</td>\n",
       "      <td>117.38</td>\n",
       "      <td>115.750</td>\n",
       "      <td>115.80</td>\n",
       "      <td>27779423</td>\n",
       "      <td>27.444482</td>\n",
       "      <td>27.618598</td>\n",
       "      <td>27.235072</td>\n",
       "      <td>27.246836</td>\n",
       "      <td>111117692</td>\n",
       "      <td>0.0</td>\n",
       "      <td>1.0</td>\n",
       "    </tr>\n",
       "    <tr>\n",
       "      <th>4</th>\n",
       "      <td>AAPL</td>\n",
       "      <td>2016-12-20 00:00:00+00:00</td>\n",
       "      <td>116.95</td>\n",
       "      <td>117.50</td>\n",
       "      <td>116.680</td>\n",
       "      <td>116.74</td>\n",
       "      <td>21424965</td>\n",
       "      <td>27.517422</td>\n",
       "      <td>27.646833</td>\n",
       "      <td>27.453893</td>\n",
       "      <td>27.468011</td>\n",
       "      <td>85699860</td>\n",
       "      <td>0.0</td>\n",
       "      <td>1.0</td>\n",
       "    </tr>\n",
       "  </tbody>\n",
       "</table>\n",
       "</div>"
      ],
      "text/plain": [
       "  symbol                       date   close    high      low    open  \\\n",
       "0   AAPL  2016-12-14 00:00:00+00:00  115.19  116.20  114.980  115.04   \n",
       "1   AAPL  2016-12-15 00:00:00+00:00  115.82  116.73  115.230  115.38   \n",
       "2   AAPL  2016-12-16 00:00:00+00:00  115.97  116.50  115.645  116.47   \n",
       "3   AAPL  2016-12-19 00:00:00+00:00  116.64  117.38  115.750  115.80   \n",
       "4   AAPL  2016-12-20 00:00:00+00:00  116.95  117.50  116.680  116.74   \n",
       "\n",
       "     volume   adjClose    adjHigh     adjLow    adjOpen  adjVolume  divCash  \\\n",
       "0  34031834  27.103308  27.340953  27.053897  27.068014  136127336      0.0   \n",
       "1  46524544  27.251542  27.465658  27.112720  27.148014  186098176      0.0   \n",
       "2  44351134  27.286836  27.411541  27.210366  27.404482  177404536      0.0   \n",
       "3  27779423  27.444482  27.618598  27.235072  27.246836  111117692      0.0   \n",
       "4  21424965  27.517422  27.646833  27.453893  27.468011   85699860      0.0   \n",
       "\n",
       "   splitFactor  \n",
       "0          1.0  \n",
       "1          1.0  \n",
       "2          1.0  \n",
       "3          1.0  \n",
       "4          1.0  "
      ]
     },
     "execution_count": 65,
     "metadata": {},
     "output_type": "execute_result"
    }
   ],
   "source": [
    "# Double check the result\n",
    "df.head()"
   ]
  },
  {
   "cell_type": "code",
   "execution_count": 64,
   "id": "d912ad5a",
   "metadata": {},
   "outputs": [
    {
     "data": {
      "image/png": "[encoded data removed]",
      "text/plain": [
       "<Figure size 720x648 with 1 Axes>"
      ]
     },
     "metadata": {
      "needs_background": "light"
     },
     "output_type": "display_data"
    }
   ],
   "source": [
    "plt.figure(figsize = (10,9))\n",
    "plt.plot(range(df.shape[0]),(df['low']+df['high'])/2.0)\n",
    "plt.xticks(range(0,df.shape[0],500),df['date'].loc[::500],rotation=45)\n",
    "plt.xlabel('Date',fontsize=18)\n",
    "plt.ylabel('Mid Price',fontsize=18)\n",
    "plt.show()"
   ]
  },
  {
   "cell_type": "markdown",
   "id": "337c31bf",
   "metadata": {},
   "source": [
    "### Correlation "
   ]
  },
  {
   "cell_type": "code",
   "execution_count": 35,
   "id": "d16952be",
   "metadata": {},
   "outputs": [
    {
     "data": {
      "text/html": [
       "<div>\n",
       "<style scoped>\n",
       "    .dataframe tbody tr th:only-of-type {\n",
       "        vertical-align: middle;\n",
       "    }\n",
       "\n",
       "    .dataframe tbody tr th {\n",
       "        vertical-align: top;\n",
       "    }\n",
       "\n",
       "    .dataframe thead th {\n",
       "        text-align: right;\n",
       "    }\n",
       "</style>\n",
       "<table border=\"1\" class=\"dataframe\">\n",
       "  <thead>\n",
       "    <tr style=\"text-align: right;\">\n",
       "      <th></th>\n",
       "      <th>close</th>\n",
       "      <th>high</th>\n",
       "      <th>low</th>\n",
       "      <th>open</th>\n",
       "      <th>volume</th>\n",
       "      <th>adjClose</th>\n",
       "      <th>adjHigh</th>\n",
       "      <th>adjLow</th>\n",
       "      <th>adjOpen</th>\n",
       "      <th>adjVolume</th>\n",
       "      <th>divCash</th>\n",
       "      <th>splitFactor</th>\n",
       "    </tr>\n",
       "  </thead>\n",
       "  <tbody>\n",
       "    <tr>\n",
       "      <th>close</th>\n",
       "      <td>1.000000</td>\n",
       "      <td>0.999513</td>\n",
       "      <td>0.999519</td>\n",
       "      <td>0.999086</td>\n",
       "      <td>-0.319254</td>\n",
       "      <td>-0.061847</td>\n",
       "      <td>-0.062347</td>\n",
       "      <td>-0.063934</td>\n",
       "      <td>-0.064267</td>\n",
       "      <td>0.266252</td>\n",
       "      <td>0.047252</td>\n",
       "      <td>-0.024303</td>\n",
       "    </tr>\n",
       "    <tr>\n",
       "      <th>high</th>\n",
       "      <td>0.999513</td>\n",
       "      <td>1.000000</td>\n",
       "      <td>0.999302</td>\n",
       "      <td>0.999560</td>\n",
       "      <td>-0.309976</td>\n",
       "      <td>-0.059912</td>\n",
       "      <td>-0.059861</td>\n",
       "      <td>-0.061836</td>\n",
       "      <td>-0.061770</td>\n",
       "      <td>0.280734</td>\n",
       "      <td>0.047039</td>\n",
       "      <td>-0.023974</td>\n",
       "    </tr>\n",
       "    <tr>\n",
       "      <th>low</th>\n",
       "      <td>0.999519</td>\n",
       "      <td>0.999302</td>\n",
       "      <td>1.000000</td>\n",
       "      <td>0.999519</td>\n",
       "      <td>-0.328015</td>\n",
       "      <td>-0.065626</td>\n",
       "      <td>-0.065965</td>\n",
       "      <td>-0.067168</td>\n",
       "      <td>-0.067536</td>\n",
       "      <td>0.254656</td>\n",
       "      <td>0.047695</td>\n",
       "      <td>-0.025099</td>\n",
       "    </tr>\n",
       "    <tr>\n",
       "      <th>open</th>\n",
       "      <td>0.999086</td>\n",
       "      <td>0.999560</td>\n",
       "      <td>0.999519</td>\n",
       "      <td>1.000000</td>\n",
       "      <td>-0.317762</td>\n",
       "      <td>-0.062928</td>\n",
       "      <td>-0.062867</td>\n",
       "      <td>-0.064501</td>\n",
       "      <td>-0.064299</td>\n",
       "      <td>0.268855</td>\n",
       "      <td>0.048991</td>\n",
       "      <td>-0.024900</td>\n",
       "    </tr>\n",
       "    <tr>\n",
       "      <th>volume</th>\n",
       "      <td>-0.319254</td>\n",
       "      <td>-0.309976</td>\n",
       "      <td>-0.328015</td>\n",
       "      <td>-0.317762</td>\n",
       "      <td>1.000000</td>\n",
       "      <td>0.694961</td>\n",
       "      <td>0.702421</td>\n",
       "      <td>0.689628</td>\n",
       "      <td>0.698055</td>\n",
       "      <td>0.335928</td>\n",
       "      <td>-0.040260</td>\n",
       "      <td>0.125866</td>\n",
       "    </tr>\n",
       "    <tr>\n",
       "      <th>adjClose</th>\n",
       "      <td>-0.061847</td>\n",
       "      <td>-0.059912</td>\n",
       "      <td>-0.065626</td>\n",
       "      <td>-0.062928</td>\n",
       "      <td>0.694961</td>\n",
       "      <td>1.000000</td>\n",
       "      <td>0.999766</td>\n",
       "      <td>0.999764</td>\n",
       "      <td>0.999543</td>\n",
       "      <td>-0.126947</td>\n",
       "      <td>-0.028515</td>\n",
       "      <td>0.039590</td>\n",
       "    </tr>\n",
       "    <tr>\n",
       "      <th>adjHigh</th>\n",
       "      <td>-0.062347</td>\n",
       "      <td>-0.059861</td>\n",
       "      <td>-0.065965</td>\n",
       "      <td>-0.062867</td>\n",
       "      <td>0.702421</td>\n",
       "      <td>0.999766</td>\n",
       "      <td>1.000000</td>\n",
       "      <td>0.999676</td>\n",
       "      <td>0.999807</td>\n",
       "      <td>-0.118046</td>\n",
       "      <td>-0.028725</td>\n",
       "      <td>0.040003</td>\n",
       "    </tr>\n",
       "    <tr>\n",
       "      <th>adjLow</th>\n",
       "      <td>-0.063934</td>\n",
       "      <td>-0.061836</td>\n",
       "      <td>-0.067168</td>\n",
       "      <td>-0.064501</td>\n",
       "      <td>0.689628</td>\n",
       "      <td>0.999764</td>\n",
       "      <td>0.999676</td>\n",
       "      <td>1.000000</td>\n",
       "      <td>0.999739</td>\n",
       "      <td>-0.134626</td>\n",
       "      <td>-0.028353</td>\n",
       "      <td>0.038520</td>\n",
       "    </tr>\n",
       "    <tr>\n",
       "      <th>adjOpen</th>\n",
       "      <td>-0.064267</td>\n",
       "      <td>-0.061770</td>\n",
       "      <td>-0.067536</td>\n",
       "      <td>-0.064299</td>\n",
       "      <td>0.698055</td>\n",
       "      <td>0.999543</td>\n",
       "      <td>0.999807</td>\n",
       "      <td>0.999739</td>\n",
       "      <td>1.000000</td>\n",
       "      <td>-0.125265</td>\n",
       "      <td>-0.027785</td>\n",
       "      <td>0.038647</td>\n",
       "    </tr>\n",
       "    <tr>\n",
       "      <th>adjVolume</th>\n",
       "      <td>0.266252</td>\n",
       "      <td>0.280734</td>\n",
       "      <td>0.254656</td>\n",
       "      <td>0.268855</td>\n",
       "      <td>0.335928</td>\n",
       "      <td>-0.126947</td>\n",
       "      <td>-0.118046</td>\n",
       "      <td>-0.134626</td>\n",
       "      <td>-0.125265</td>\n",
       "      <td>1.000000</td>\n",
       "      <td>0.009104</td>\n",
       "      <td>0.052012</td>\n",
       "    </tr>\n",
       "    <tr>\n",
       "      <th>divCash</th>\n",
       "      <td>0.047252</td>\n",
       "      <td>0.047039</td>\n",
       "      <td>0.047695</td>\n",
       "      <td>0.048991</td>\n",
       "      <td>-0.040260</td>\n",
       "      <td>-0.028515</td>\n",
       "      <td>-0.028725</td>\n",
       "      <td>-0.028353</td>\n",
       "      <td>-0.027785</td>\n",
       "      <td>0.009104</td>\n",
       "      <td>1.000000</td>\n",
       "      <td>-0.003346</td>\n",
       "    </tr>\n",
       "    <tr>\n",
       "      <th>splitFactor</th>\n",
       "      <td>-0.024303</td>\n",
       "      <td>-0.023974</td>\n",
       "      <td>-0.025099</td>\n",
       "      <td>-0.024900</td>\n",
       "      <td>0.125866</td>\n",
       "      <td>0.039590</td>\n",
       "      <td>0.040003</td>\n",
       "      <td>0.038520</td>\n",
       "      <td>0.038647</td>\n",
       "      <td>0.052012</td>\n",
       "      <td>-0.003346</td>\n",
       "      <td>1.000000</td>\n",
       "    </tr>\n",
       "  </tbody>\n",
       "</table>\n",
       "</div>"
      ],
      "text/plain": [
       "                close      high       low      open    volume  adjClose  \\\n",
       "close        1.000000  0.999513  0.999519  0.999086 -0.319254 -0.061847   \n",
       "high         0.999513  1.000000  0.999302  0.999560 -0.309976 -0.059912   \n",
       "low          0.999519  0.999302  1.000000  0.999519 -0.328015 -0.065626   \n",
       "open         0.999086  0.999560  0.999519  1.000000 -0.317762 -0.062928   \n",
       "volume      -0.319254 -0.309976 -0.328015 -0.317762  1.000000  0.694961   \n",
       "adjClose    -0.061847 -0.059912 -0.065626 -0.062928  0.694961  1.000000   \n",
       "adjHigh     -0.062347 -0.059861 -0.065965 -0.062867  0.702421  0.999766   \n",
       "adjLow      -0.063934 -0.061836 -0.067168 -0.064501  0.689628  0.999764   \n",
       "adjOpen     -0.064267 -0.061770 -0.067536 -0.064299  0.698055  0.999543   \n",
       "adjVolume    0.266252  0.280734  0.254656  0.268855  0.335928 -0.126947   \n",
       "divCash      0.047252  0.047039  0.047695  0.048991 -0.040260 -0.028515   \n",
       "splitFactor -0.024303 -0.023974 -0.025099 -0.024900  0.125866  0.039590   \n",
       "\n",
       "              adjHigh    adjLow   adjOpen  adjVolume   divCash  splitFactor  \n",
       "close       -0.062347 -0.063934 -0.064267   0.266252  0.047252    -0.024303  \n",
       "high        -0.059861 -0.061836 -0.061770   0.280734  0.047039    -0.023974  \n",
       "low         -0.065965 -0.067168 -0.067536   0.254656  0.047695    -0.025099  \n",
       "open        -0.062867 -0.064501 -0.064299   0.268855  0.048991    -0.024900  \n",
       "volume       0.702421  0.689628  0.698055   0.335928 -0.040260     0.125866  \n",
       "adjClose     0.999766  0.999764  0.999543  -0.126947 -0.028515     0.039590  \n",
       "adjHigh      1.000000  0.999676  0.999807  -0.118046 -0.028725     0.040003  \n",
       "adjLow       0.999676  1.000000  0.999739  -0.134626 -0.028353     0.038520  \n",
       "adjOpen      0.999807  0.999739  1.000000  -0.125265 -0.027785     0.038647  \n",
       "adjVolume   -0.118046 -0.134626 -0.125265   1.000000  0.009104     0.052012  \n",
       "divCash     -0.028725 -0.028353 -0.027785   0.009104  1.000000    -0.003346  \n",
       "splitFactor  0.040003  0.038520  0.038647   0.052012 -0.003346     1.000000  "
      ]
     },
     "execution_count": 35,
     "metadata": {},
     "output_type": "execute_result"
    }
   ],
   "source": [
    "#Calculate Correlation \n",
    "df.corr()"
   ]
  },
  {
   "cell_type": "code",
   "execution_count": 40,
   "id": "d0cb8573",
   "metadata": {},
   "outputs": [
    {
     "data": {
      "text/plain": [
       "<AxesSubplot:>"
      ]
     },
     "execution_count": 40,
     "metadata": {},
     "output_type": "execute_result"
    },
    {
     "data": {
      "image/png": "[encoded data removed]",
      "text/plain": [
       "<Figure size 2160x1080 with 2 Axes>"
      ]
     },
     "metadata": {
      "needs_background": "light"
     },
     "output_type": "display_data"
    }
   ],
   "source": [
    "#Creating a correlation heta map\n",
    "plt.figure(figsize = (30, 15))\n",
    "sns.heatmap(df.corr(),annot=True)"
   ]
  },
  {
   "cell_type": "markdown",
   "id": "971ca32d",
   "metadata": {},
   "source": [
    "### Stock prediction "
   ]
  },
  {
   "cell_type": "code",
   "execution_count": 41,
   "id": "14e2715f",
   "metadata": {},
   "outputs": [],
   "source": [
    "#Here the target variable is \"Close\", for this closing price Im doing the stock prediction"
   ]
  },
  {
   "cell_type": "code",
   "execution_count": 42,
   "id": "922262c9",
   "metadata": {},
   "outputs": [],
   "source": [
    "df_close = df.reset_index()['close']"
   ]
  },
  {
   "cell_type": "code",
   "execution_count": 43,
   "id": "a9c5134d",
   "metadata": {},
   "outputs": [
    {
     "data": {
      "text/plain": [
       "(1257,)"
      ]
     },
     "execution_count": 43,
     "metadata": {},
     "output_type": "execute_result"
    }
   ],
   "source": [
    "df_close.shape"
   ]
  },
  {
   "cell_type": "code",
   "execution_count": 44,
   "id": "e9efd349",
   "metadata": {},
   "outputs": [
    {
     "data": {
      "text/plain": [
       "0       115.19\n",
       "1       115.82\n",
       "2       115.97\n",
       "3       116.64\n",
       "4       116.95\n",
       "         ...  \n",
       "1252    165.32\n",
       "1253    171.18\n",
       "1254    175.08\n",
       "1255    174.56\n",
       "1256    179.45\n",
       "Name: close, Length: 1257, dtype: float64"
      ]
     },
     "execution_count": 44,
     "metadata": {},
     "output_type": "execute_result"
    }
   ],
   "source": [
    "df_close"
   ]
  },
  {
   "cell_type": "code",
   "execution_count": 45,
   "id": "30461a29",
   "metadata": {},
   "outputs": [
    {
     "data": {
      "text/plain": [
       "[<matplotlib.lines.Line2D at 0x21c62ef25e0>]"
      ]
     },
     "execution_count": 45,
     "metadata": {},
     "output_type": "execute_result"
    },
    {
     "data": {
      "image/png": "[encoded data removed]",
      "text/plain": [
       "<Figure size 432x288 with 1 Axes>"
      ]
     },
     "metadata": {
      "needs_background": "light"
     },
     "output_type": "display_data"
    }
   ],
   "source": [
    "#plotting the 'close' dataframe\n",
    "\n",
    "plt.plot(df_close)"
   ]
  },
  {
   "cell_type": "code",
   "execution_count": 46,
   "id": "9b99a42a",
   "metadata": {},
   "outputs": [],
   "source": [
    "#Here you can see a steep and sudden downfall of the stock "
   ]
  },
  {
   "cell_type": "markdown",
   "id": "c55995ad",
   "metadata": {},
   "source": [
    "### Normalizing the Data"
   ]
  },
  {
   "cell_type": "markdown",
   "id": "b8765e8a",
   "metadata": {},
   "source": [
    "### Long Short-Term Memory(LSTM) "
   ]
  },
  {
   "cell_type": "markdown",
   "id": "5adfa33d",
   "metadata": {},
   "source": [
    "LSTM are sensitive to the scale of the data. so we apply MinMax scaler \n",
    "\n",
    "MinMaxScalar scales all the data to be in the region of 0 and 1. \n",
    "\n",
    "When scaling remember! You normalize both test and train data with respect to training data\n",
    "\n",
    "Because we are not supposed to have access to test data"
   ]
  },
  {
   "cell_type": "code",
   "execution_count": 70,
   "id": "d985b28c",
   "metadata": {},
   "outputs": [],
   "source": [
    "# Using sklearn.preprocessing import MinMaxScaler\n",
    "scaler = MinMaxScaler(feature_range=(0,1))\n",
    "\n",
    "df_close=scaler.fit_transform(np.array(df_close).reshape(-1,1))"
   ]
  },
  {
   "cell_type": "code",
   "execution_count": 71,
   "id": "a9dd4cd2",
   "metadata": {},
   "outputs": [
    {
     "name": "stdout",
     "output_type": "stream",
     "text": [
      "[[0.02091421]\n",
      " [0.02249217]\n",
      " [0.02286788]\n",
      " ...\n",
      " [0.17092048]\n",
      " [0.16961803]\n",
      " [0.181866  ]]\n"
     ]
    }
   ],
   "source": [
    "print(df_close)  # It will transform into an array and will have values between 0 to 1"
   ]
  },
  {
   "cell_type": "code",
   "execution_count": 72,
   "id": "66568643",
   "metadata": {},
   "outputs": [
    {
     "data": {
      "text/plain": [
       "(1257, 1)"
      ]
     },
     "execution_count": 72,
     "metadata": {},
     "output_type": "execute_result"
    }
   ],
   "source": [
    "df_close.shape"
   ]
  },
  {
   "cell_type": "code",
   "execution_count": 73,
   "id": "df00230b",
   "metadata": {},
   "outputs": [],
   "source": [
    "#Splitting the dataset into training and testing\n",
    "training_size = int(len(df_close)*0.65) # training set is divided int 65% from the whole \n",
    "test_size = len(df_close)-training_size  # the remaining 35% is test set\n",
    "train_data,test_data = df_close[0:training_size,:],df_close[training_size:len(df_close),:1]"
   ]
  },
  {
   "cell_type": "code",
   "execution_count": 74,
   "id": "63cfb288",
   "metadata": {},
   "outputs": [
    {
     "data": {
      "text/plain": [
       "(817, 440)"
      ]
     },
     "execution_count": 74,
     "metadata": {},
     "output_type": "execute_result"
    }
   ],
   "source": [
    "training_size, test_size  # this gives the training(817) and testing values(440)"
   ]
  },
  {
   "cell_type": "code",
   "execution_count": 76,
   "id": "40cd5837",
   "metadata": {},
   "outputs": [
    {
     "data": {
      "text/plain": [
       "817"
      ]
     },
     "execution_count": 76,
     "metadata": {},
     "output_type": "execute_result"
    }
   ],
   "source": [
    "len(train_data)"
   ]
  },
  {
   "cell_type": "code",
   "execution_count": 77,
   "id": "3edbeb02",
   "metadata": {},
   "outputs": [
    {
     "data": {
      "text/plain": [
       "440"
      ]
     },
     "execution_count": 77,
     "metadata": {},
     "output_type": "execute_result"
    }
   ],
   "source": [
    "len(test_data)"
   ]
  },
  {
   "cell_type": "code",
   "execution_count": 78,
   "id": "5fd183ff",
   "metadata": {},
   "outputs": [
    {
     "data": {
      "text/plain": [
       "(817, 440)"
      ]
     },
     "execution_count": 78,
     "metadata": {},
     "output_type": "execute_result"
    }
   ],
   "source": [
    "len(train_data),len(test_data)"
   ]
  },
  {
   "cell_type": "markdown",
   "id": "7e02faf8",
   "metadata": {},
   "source": [
    "### Data preprocessing"
   ]
  },
  {
   "cell_type": "code",
   "execution_count": 79,
   "id": "1fc2f29c",
   "metadata": {},
   "outputs": [],
   "source": [
    "# if we need tomorrows o/p, how many previous days we need to consider or need to be dependent on "
   ]
  },
  {
   "cell_type": "code",
   "execution_count": 81,
   "id": "1d049fee",
   "metadata": {},
   "outputs": [],
   "source": [
    "import numpy\n",
    "# convert an array of values into a dataset matrix\n",
    "def create_dataset(dataset, time_step=1):\n",
    "\tdataX, dataY = [], []\n",
    "\tfor i in range(len(dataset)-time_step-1):\n",
    "\t\ta = dataset[i:(i+time_step), 0]   ###i=0, 0,1,2,3-----99   y = 100 \n",
    "\t\tdataX.append(a)\n",
    "\t\tdataY.append(dataset[i + time_step, 0])\n",
    "\treturn numpy.array(dataX), numpy.array(dataY)"
   ]
  },
  {
   "cell_type": "code",
   "execution_count": 87,
   "id": "e2c8da53",
   "metadata": {},
   "outputs": [],
   "source": [
    "# reshape into X=t,t+1,t+2,t+3 and Y=t+4\n",
    "time_step = 100\n",
    "X_train, y_train = create_dataset(train_data, time_step)\n",
    "X_test, ytest = create_dataset(test_data, time_step)"
   ]
  },
  {
   "cell_type": "code",
   "execution_count": 88,
   "id": "2cd43932",
   "metadata": {},
   "outputs": [
    {
     "name": "stdout",
     "output_type": "stream",
     "text": [
      "(716, 100)\n",
      "(716,)\n"
     ]
    },
    {
     "data": {
      "text/plain": [
       "(None, None)"
      ]
     },
     "execution_count": 88,
     "metadata": {},
     "output_type": "execute_result"
    }
   ],
   "source": [
    "# Print x_train and y_train shape\n",
    "print(X_train.shape), print(y_train.shape)"
   ]
  },
  {
   "cell_type": "code",
   "execution_count": 89,
   "id": "6c20c71f",
   "metadata": {},
   "outputs": [
    {
     "name": "stdout",
     "output_type": "stream",
     "text": [
      "(339, 100)\n",
      "(339,)\n"
     ]
    },
    {
     "data": {
      "text/plain": [
       "(None, None)"
      ]
     },
     "execution_count": 89,
     "metadata": {},
     "output_type": "execute_result"
    }
   ],
   "source": [
    "#Print y_train and y_test\n",
    "print(X_test.shape), print(ytest.shape)"
   ]
  },
  {
   "cell_type": "code",
   "execution_count": 93,
   "id": "0db125f1",
   "metadata": {},
   "outputs": [],
   "source": [
    "#Creating a stacked LSTM model\n",
    "# reshape the x_tarin into 3 dimensions \n",
    "# reshape input to be [samples, time steps, features] which is required for LSTM\n",
    "X_train =X_train.reshape(X_train.shape[0],X_train.shape[1] , 1) # the 3-dimesion is (716,time_step=100,1(it gets converted into 3 dimsion))\n",
    "X_test = X_test.reshape(X_test.shape[0],X_test.shape[1] , 1)"
   ]
  },
  {
   "cell_type": "code",
   "execution_count": 94,
   "id": "a2756ffb",
   "metadata": {},
   "outputs": [],
   "source": [
    "model=Sequential()\n",
    "model.add(LSTM(50,return_sequences=True,input_shape=(100,1)))\n",
    "model.add(LSTM(50,return_sequences=True))\n",
    "model.add(LSTM(50))\n",
    "model.add(Dense(1))\n",
    "model.compile(loss='mean_squared_error',optimizer='adam')"
   ]
  },
  {
   "cell_type": "code",
   "execution_count": 95,
   "id": "35007650",
   "metadata": {},
   "outputs": [
    {
     "name": "stdout",
     "output_type": "stream",
     "text": [
      "Model: \"sequential\"\n",
      "_________________________________________________________________\n",
      "Layer (type)                 Output Shape              Param #   \n",
      "=================================================================\n",
      "lstm (LSTM)                  (None, 100, 50)           10400     \n",
      "_________________________________________________________________\n",
      "lstm_1 (LSTM)                (None, 100, 50)           20200     \n",
      "_________________________________________________________________\n",
      "lstm_2 (LSTM)                (None, 50)                20200     \n",
      "_________________________________________________________________\n",
      "dense (Dense)                (None, 1)                 51        \n",
      "=================================================================\n",
      "Total params: 50,851\n",
      "Trainable params: 50,851\n",
      "Non-trainable params: 0\n",
      "_________________________________________________________________\n"
     ]
    }
   ],
   "source": [
    "model.summary()"
   ]
  },
  {
   "cell_type": "code",
   "execution_count": 96,
   "id": "d619a164",
   "metadata": {},
   "outputs": [
    {
     "name": "stdout",
     "output_type": "stream",
     "text": [
      "Model: \"sequential\"\n",
      "_________________________________________________________________\n",
      "Layer (type)                 Output Shape              Param #   \n",
      "=================================================================\n",
      "lstm (LSTM)                  (None, 100, 50)           10400     \n",
      "_________________________________________________________________\n",
      "lstm_1 (LSTM)                (None, 100, 50)           20200     \n",
      "_________________________________________________________________\n",
      "lstm_2 (LSTM)                (None, 50)                20200     \n",
      "_________________________________________________________________\n",
      "dense (Dense)                (None, 1)                 51        \n",
      "=================================================================\n",
      "Total params: 50,851\n",
      "Trainable params: 50,851\n",
      "Non-trainable params: 0\n",
      "_________________________________________________________________\n"
     ]
    }
   ],
   "source": [
    "model.summary()"
   ]
  },
  {
   "cell_type": "code",
   "execution_count": 97,
   "id": "89735023",
   "metadata": {
    "scrolled": false
   },
   "outputs": [
    {
     "name": "stdout",
     "output_type": "stream",
     "text": [
      "Epoch 1/100\n",
      "12/12 [==============================] - 5s 408ms/step - loss: 0.0152 - val_loss: 0.0180\n",
      "Epoch 2/100\n",
      "12/12 [==============================] - 2s 183ms/step - loss: 0.0046 - val_loss: 0.0242\n",
      "Epoch 3/100\n",
      "12/12 [==============================] - 2s 180ms/step - loss: 0.0018 - val_loss: 0.0195\n",
      "Epoch 4/100\n",
      "12/12 [==============================] - 2s 193ms/step - loss: 9.4602e-04 - val_loss: 0.0207\n",
      "Epoch 5/100\n",
      "12/12 [==============================] - 2s 185ms/step - loss: 7.4001e-04 - val_loss: 0.0209\n",
      "Epoch 6/100\n",
      "12/12 [==============================] - 2s 172ms/step - loss: 7.1229e-04 - val_loss: 0.0202\n",
      "Epoch 7/100\n",
      "12/12 [==============================] - 2s 181ms/step - loss: 6.8949e-04 - val_loss: 0.0205\n",
      "Epoch 8/100\n",
      "12/12 [==============================] - 2s 184ms/step - loss: 6.6665e-04 - val_loss: 0.0191\n",
      "Epoch 9/100\n",
      "12/12 [==============================] - 2s 207ms/step - loss: 6.7037e-04 - val_loss: 0.0186\n",
      "Epoch 10/100\n",
      "12/12 [==============================] - 2s 181ms/step - loss: 6.3149e-04 - val_loss: 0.0180\n",
      "Epoch 11/100\n",
      "12/12 [==============================] - 2s 181ms/step - loss: 6.0874e-04 - val_loss: 0.0176\n",
      "Epoch 12/100\n",
      "12/12 [==============================] - 2s 172ms/step - loss: 6.0647e-04 - val_loss: 0.0164\n",
      "Epoch 13/100\n",
      "12/12 [==============================] - 2s 170ms/step - loss: 6.9784e-04 - val_loss: 0.0155\n",
      "Epoch 14/100\n",
      "12/12 [==============================] - 2s 169ms/step - loss: 6.2578e-04 - val_loss: 0.0149\n",
      "Epoch 15/100\n",
      "12/12 [==============================] - 2s 172ms/step - loss: 6.4381e-04 - val_loss: 0.0152\n",
      "Epoch 16/100\n",
      "12/12 [==============================] - 2s 171ms/step - loss: 5.8465e-04 - val_loss: 0.0161\n",
      "Epoch 17/100\n",
      "12/12 [==============================] - 2s 175ms/step - loss: 4.8642e-04 - val_loss: 0.0153\n",
      "Epoch 18/100\n",
      "12/12 [==============================] - 2s 174ms/step - loss: 4.4556e-04 - val_loss: 0.0138\n",
      "Epoch 19/100\n",
      "12/12 [==============================] - 2s 174ms/step - loss: 4.2448e-04 - val_loss: 0.0145\n",
      "Epoch 20/100\n",
      "12/12 [==============================] - 2s 176ms/step - loss: 3.7146e-04 - val_loss: 0.0144\n",
      "Epoch 21/100\n",
      "12/12 [==============================] - 2s 171ms/step - loss: 3.5961e-04 - val_loss: 0.0161\n",
      "Epoch 22/100\n",
      "12/12 [==============================] - 2s 171ms/step - loss: 3.5573e-04 - val_loss: 0.0157\n",
      "Epoch 23/100\n",
      "12/12 [==============================] - 2s 176ms/step - loss: 3.6895e-04 - val_loss: 0.0140\n",
      "Epoch 24/100\n",
      "12/12 [==============================] - 2s 170ms/step - loss: 3.7492e-04 - val_loss: 0.0159\n",
      "Epoch 25/100\n",
      "12/12 [==============================] - 2s 169ms/step - loss: 4.3682e-04 - val_loss: 0.0139\n",
      "Epoch 26/100\n",
      "12/12 [==============================] - 2s 171ms/step - loss: 3.6287e-04 - val_loss: 0.0137\n",
      "Epoch 27/100\n",
      "12/12 [==============================] - 2s 170ms/step - loss: 3.9914e-04 - val_loss: 0.0134\n",
      "Epoch 28/100\n",
      "12/12 [==============================] - 2s 168ms/step - loss: 4.5696e-04 - val_loss: 0.0124\n",
      "Epoch 29/100\n",
      "12/12 [==============================] - 2s 181ms/step - loss: 3.3938e-04 - val_loss: 0.0130\n",
      "Epoch 30/100\n",
      "12/12 [==============================] - 2s 173ms/step - loss: 3.4368e-04 - val_loss: 0.0130\n",
      "Epoch 31/100\n",
      "12/12 [==============================] - 2s 174ms/step - loss: 3.1628e-04 - val_loss: 0.0135\n",
      "Epoch 32/100\n",
      "12/12 [==============================] - 2s 174ms/step - loss: 3.2305e-04 - val_loss: 0.0134\n",
      "Epoch 33/100\n",
      "12/12 [==============================] - 2s 178ms/step - loss: 3.4027e-04 - val_loss: 0.0126\n",
      "Epoch 34/100\n",
      "12/12 [==============================] - 2s 175ms/step - loss: 3.2722e-04 - val_loss: 0.0122\n",
      "Epoch 35/100\n",
      "12/12 [==============================] - 2s 173ms/step - loss: 4.4103e-04 - val_loss: 0.0129\n",
      "Epoch 36/100\n",
      "12/12 [==============================] - 2s 174ms/step - loss: 4.0289e-04 - val_loss: 0.0119\n",
      "Epoch 37/100\n",
      "12/12 [==============================] - 2s 173ms/step - loss: 3.6260e-04 - val_loss: 0.0112\n",
      "Epoch 38/100\n",
      "12/12 [==============================] - 2s 177ms/step - loss: 3.3401e-04 - val_loss: 0.0114\n",
      "Epoch 39/100\n",
      "12/12 [==============================] - 2s 174ms/step - loss: 3.0489e-04 - val_loss: 0.0112\n",
      "Epoch 40/100\n",
      "12/12 [==============================] - 2s 175ms/step - loss: 3.1318e-04 - val_loss: 0.0116\n",
      "Epoch 41/100\n",
      "12/12 [==============================] - 2s 169ms/step - loss: 2.9438e-04 - val_loss: 0.0120\n",
      "Epoch 42/100\n",
      "12/12 [==============================] - 2s 169ms/step - loss: 3.0940e-04 - val_loss: 0.0118\n",
      "Epoch 43/100\n",
      "12/12 [==============================] - 2s 168ms/step - loss: 3.3996e-04 - val_loss: 0.0115\n",
      "Epoch 44/100\n",
      "12/12 [==============================] - 2s 169ms/step - loss: 3.0086e-04 - val_loss: 0.0114\n",
      "Epoch 45/100\n",
      "12/12 [==============================] - 2s 170ms/step - loss: 2.9865e-04 - val_loss: 0.0112\n",
      "Epoch 46/100\n",
      "12/12 [==============================] - 2s 178ms/step - loss: 2.9311e-04 - val_loss: 0.0118\n",
      "Epoch 47/100\n",
      "12/12 [==============================] - 2s 192ms/step - loss: 3.1164e-04 - val_loss: 0.0106\n",
      "Epoch 48/100\n",
      "12/12 [==============================] - 3s 248ms/step - loss: 3.1362e-04 - val_loss: 0.0115\n",
      "Epoch 49/100\n",
      "12/12 [==============================] - 2s 193ms/step - loss: 3.1939e-04 - val_loss: 0.0107\n",
      "Epoch 50/100\n",
      "12/12 [==============================] - 2s 205ms/step - loss: 2.9993e-04 - val_loss: 0.0108\n",
      "Epoch 51/100\n",
      "12/12 [==============================] - 2s 199ms/step - loss: 3.0553e-04 - val_loss: 0.0105\n",
      "Epoch 52/100\n",
      "12/12 [==============================] - 2s 180ms/step - loss: 2.8143e-04 - val_loss: 0.0104\n",
      "Epoch 53/100\n",
      "12/12 [==============================] - 2s 179ms/step - loss: 2.7772e-04 - val_loss: 0.0103\n",
      "Epoch 54/100\n",
      "12/12 [==============================] - 2s 177ms/step - loss: 2.7976e-04 - val_loss: 0.0097\n",
      "Epoch 55/100\n",
      "12/12 [==============================] - 2s 188ms/step - loss: 2.7899e-04 - val_loss: 0.0101\n",
      "Epoch 56/100\n",
      "12/12 [==============================] - 2s 190ms/step - loss: 2.8359e-04 - val_loss: 0.0099\n",
      "Epoch 57/100\n",
      "12/12 [==============================] - 2s 171ms/step - loss: 3.3596e-04 - val_loss: 0.0100\n",
      "Epoch 58/100\n",
      "12/12 [==============================] - 2s 169ms/step - loss: 2.9099e-04 - val_loss: 0.0094\n",
      "Epoch 59/100\n",
      "12/12 [==============================] - 2s 168ms/step - loss: 2.8210e-04 - val_loss: 0.0094\n",
      "Epoch 60/100\n",
      "12/12 [==============================] - 2s 183ms/step - loss: 2.7119e-04 - val_loss: 0.0093\n",
      "Epoch 61/100\n",
      "12/12 [==============================] - 2s 172ms/step - loss: 2.9869e-04 - val_loss: 0.0094\n",
      "Epoch 62/100\n",
      "12/12 [==============================] - 2s 176ms/step - loss: 2.7204e-04 - val_loss: 0.0092\n",
      "Epoch 63/100\n",
      "12/12 [==============================] - 2s 175ms/step - loss: 2.6788e-04 - val_loss: 0.0092\n",
      "Epoch 64/100\n",
      "12/12 [==============================] - 2s 172ms/step - loss: 2.7074e-04 - val_loss: 0.0092\n",
      "Epoch 65/100\n",
      "12/12 [==============================] - 2s 185ms/step - loss: 2.7775e-04 - val_loss: 0.0096\n",
      "Epoch 66/100\n",
      "12/12 [==============================] - 2s 173ms/step - loss: 2.9628e-04 - val_loss: 0.0093\n",
      "Epoch 67/100\n",
      "12/12 [==============================] - 2s 170ms/step - loss: 2.9993e-04 - val_loss: 0.0099\n",
      "Epoch 68/100\n",
      "12/12 [==============================] - 2s 182ms/step - loss: 2.8914e-04 - val_loss: 0.0088\n",
      "Epoch 69/100\n",
      "12/12 [==============================] - 2s 184ms/step - loss: 2.9353e-04 - val_loss: 0.0089\n",
      "Epoch 70/100\n",
      "12/12 [==============================] - 2s 171ms/step - loss: 2.6414e-04 - val_loss: 0.0089\n",
      "Epoch 71/100\n",
      "12/12 [==============================] - 2s 189ms/step - loss: 2.5476e-04 - val_loss: 0.0089\n",
      "Epoch 72/100\n",
      "12/12 [==============================] - 2s 178ms/step - loss: 2.6692e-04 - val_loss: 0.0084\n",
      "Epoch 73/100\n",
      "12/12 [==============================] - 2s 181ms/step - loss: 2.5899e-04 - val_loss: 0.0087\n",
      "Epoch 74/100\n",
      "12/12 [==============================] - 2s 175ms/step - loss: 2.7327e-04 - val_loss: 0.0089\n",
      "Epoch 75/100\n",
      "12/12 [==============================] - 2s 198ms/step - loss: 2.5995e-04 - val_loss: 0.0078\n",
      "Epoch 76/100\n",
      "12/12 [==============================] - 2s 189ms/step - loss: 3.0254e-04 - val_loss: 0.0083\n",
      "Epoch 77/100\n",
      "12/12 [==============================] - 2s 173ms/step - loss: 2.5497e-04 - val_loss: 0.0081\n",
      "Epoch 78/100\n",
      "12/12 [==============================] - 2s 184ms/step - loss: 2.5090e-04 - val_loss: 0.0081\n",
      "Epoch 79/100\n",
      "12/12 [==============================] - 2s 185ms/step - loss: 2.4687e-04 - val_loss: 0.0080\n",
      "Epoch 80/100\n",
      "12/12 [==============================] - 2s 169ms/step - loss: 2.7779e-04 - val_loss: 0.0079\n",
      "Epoch 81/100\n",
      "12/12 [==============================] - 2s 170ms/step - loss: 2.6230e-04 - val_loss: 0.0084\n",
      "Epoch 82/100\n",
      "12/12 [==============================] - 2s 178ms/step - loss: 3.0394e-04 - val_loss: 0.0080\n",
      "Epoch 83/100\n",
      "12/12 [==============================] - 2s 198ms/step - loss: 3.1049e-04 - val_loss: 0.0074\n",
      "Epoch 84/100\n",
      "12/12 [==============================] - 2s 192ms/step - loss: 3.0820e-04 - val_loss: 0.0081\n",
      "Epoch 85/100\n",
      "12/12 [==============================] - 2s 178ms/step - loss: 2.4992e-04 - val_loss: 0.0078\n",
      "Epoch 86/100\n",
      "12/12 [==============================] - 2s 187ms/step - loss: 2.7515e-04 - val_loss: 0.0080\n",
      "Epoch 87/100\n",
      "12/12 [==============================] - 2s 171ms/step - loss: 2.6991e-04 - val_loss: 0.0071\n",
      "Epoch 88/100\n",
      "12/12 [==============================] - 2s 175ms/step - loss: 2.8145e-04 - val_loss: 0.0077\n",
      "Epoch 89/100\n",
      "12/12 [==============================] - 2s 168ms/step - loss: 2.5553e-04 - val_loss: 0.0070\n",
      "Epoch 90/100\n",
      "12/12 [==============================] - 2s 179ms/step - loss: 2.4240e-04 - val_loss: 0.0071\n",
      "Epoch 91/100\n",
      "12/12 [==============================] - 2s 183ms/step - loss: 2.4998e-04 - val_loss: 0.0072\n",
      "Epoch 92/100\n",
      "12/12 [==============================] - 2s 190ms/step - loss: 2.2492e-04 - val_loss: 0.0073\n",
      "Epoch 93/100\n",
      "12/12 [==============================] - 2s 172ms/step - loss: 2.4110e-04 - val_loss: 0.0072\n",
      "Epoch 94/100\n",
      "12/12 [==============================] - 2s 180ms/step - loss: 2.3602e-04 - val_loss: 0.0069\n",
      "Epoch 95/100\n",
      "12/12 [==============================] - 2s 169ms/step - loss: 2.2701e-04 - val_loss: 0.0069\n",
      "Epoch 96/100\n",
      "12/12 [==============================] - 2s 193ms/step - loss: 2.2800e-04 - val_loss: 0.0069\n",
      "Epoch 97/100\n",
      "12/12 [==============================] - 2s 193ms/step - loss: 2.5310e-04 - val_loss: 0.0069\n",
      "Epoch 98/100\n",
      "12/12 [==============================] - 2s 192ms/step - loss: 2.3168e-04 - val_loss: 0.0066\n",
      "Epoch 99/100\n",
      "12/12 [==============================] - 2s 195ms/step - loss: 2.6758e-04 - val_loss: 0.0067\n",
      "Epoch 100/100\n",
      "12/12 [==============================] - 2s 188ms/step - loss: 2.7096e-04 - val_loss: 0.0066\n"
     ]
    },
    {
     "data": {
      "text/plain": [
       "<tensorflow.python.keras.callbacks.History at 0x21c6c19c6a0>"
      ]
     },
     "execution_count": 97,
     "metadata": {},
     "output_type": "execute_result"
    }
   ],
   "source": [
    "model.fit(X_train,y_train,validation_data=(X_test,ytest),epochs=100,batch_size=64,verbose=1)\n",
    "# Loss started from 0.0152 and lowering, and the validation loss also is decreasing \n",
    "# The main aim is to minimise the loss"
   ]
  },
  {
   "cell_type": "markdown",
   "id": "c1800738",
   "metadata": {},
   "source": [
    "### Predit the test data and plot the output "
   ]
  },
  {
   "cell_type": "code",
   "execution_count": 98,
   "id": "bccb8efb",
   "metadata": {},
   "outputs": [],
   "source": [
    "import tensorflow as tf"
   ]
  },
  {
   "cell_type": "code",
   "execution_count": 99,
   "id": "f0dc99cd",
   "metadata": {},
   "outputs": [
    {
     "data": {
      "text/plain": [
       "'2.3.0'"
      ]
     },
     "execution_count": 99,
     "metadata": {},
     "output_type": "execute_result"
    }
   ],
   "source": [
    "tf.__version__"
   ]
  },
  {
   "cell_type": "code",
   "execution_count": 101,
   "id": "0905614f",
   "metadata": {},
   "outputs": [],
   "source": [
    "### Lets Do the prediction and check performance metrics\n",
    "train_predict=model.predict(X_train) # output for the train dataset\n",
    "test_predict=model.predict(X_test)"
   ]
  },
  {
   "cell_type": "code",
   "execution_count": 102,
   "id": "68e0109e",
   "metadata": {},
   "outputs": [],
   "source": [
    "##Transformback to original form\n",
    "train_predict=scaler.inverse_transform(train_predict)\n",
    "test_predict=scaler.inverse_transform(test_predict)"
   ]
  },
  {
   "cell_type": "code",
   "execution_count": 104,
   "id": "eb9b7474",
   "metadata": {},
   "outputs": [
    {
     "data": {
      "text/plain": [
       "197.8757163464656"
      ]
     },
     "execution_count": 104,
     "metadata": {},
     "output_type": "execute_result"
    }
   ],
   "source": [
    "### Calculate RMSE performance metrics\n",
    "import math\n",
    "#Train data RMSE value\n",
    "from sklearn.metrics import mean_squared_error\n",
    "math.sqrt(mean_squared_error(y_train,train_predict))"
   ]
  },
  {
   "cell_type": "code",
   "execution_count": 105,
   "id": "00777ce5",
   "metadata": {},
   "outputs": [
    {
     "data": {
      "text/plain": [
       "167.0943709413726"
      ]
     },
     "execution_count": 105,
     "metadata": {},
     "output_type": "execute_result"
    }
   ],
   "source": [
    "### Test Data RMSE\n",
    "math.sqrt(mean_squared_error(ytest,test_predict))"
   ]
  },
  {
   "cell_type": "code",
   "execution_count": 106,
   "id": "dfa5b7d2",
   "metadata": {},
   "outputs": [],
   "source": [
    "# The difference between the RMSE values of train and test is very less, this implies the LMSE model has done a good work "
   ]
  },
  {
   "cell_type": "code",
   "execution_count": 109,
   "id": "67ed892b",
   "metadata": {},
   "outputs": [
    {
     "data": {
      "image/png": "[encoded data removed]",
      "text/plain": [
       "<Figure size 432x288 with 1 Axes>"
      ]
     },
     "metadata": {
      "needs_background": "light"
     },
     "output_type": "display_data"
    }
   ],
   "source": [
    "### Plotting \n",
    "# shift train predictions for plotting\n",
    "look_back=100\n",
    "trainPredictPlot = numpy.empty_like(df_close)\n",
    "trainPredictPlot[:, :] = np.nan\n",
    "trainPredictPlot[look_back:len(train_predict)+look_back, :] = train_predict\n",
    "# shift test predictions for plotting\n",
    "testPredictPlot = numpy.empty_like(df_close)\n",
    "testPredictPlot[:, :] = numpy.nan\n",
    "testPredictPlot[len(train_predict)+(look_back*2)+1:len(df1)-1, :] = test_predict\n",
    "# plot baseline and predictions\n",
    "plt.plot(scaler.inverse_transform(df_close))\n",
    "plt.plot(trainPredictPlot)\n",
    "plt.plot(testPredictPlot)\n",
    "plt.show()"
   ]
  },
  {
   "cell_type": "code",
   "execution_count": 110,
   "id": "9b27e6bf",
   "metadata": {},
   "outputs": [],
   "source": [
    "#green colour gives the test data(predicted o/p for test data),\n",
    "#blue color is the complete dataset, \n",
    "#predictions on the training datset is shown using orange"
   ]
  },
  {
   "cell_type": "markdown",
   "id": "ab9061b1",
   "metadata": {},
   "source": [
    "### Predict the future 30 days and plot the o/p"
   ]
  },
  {
   "cell_type": "code",
   "execution_count": 111,
   "id": "9beb311b",
   "metadata": {},
   "outputs": [
    {
     "data": {
      "text/plain": [
       "440"
      ]
     },
     "execution_count": 111,
     "metadata": {},
     "output_type": "execute_result"
    }
   ],
   "source": [
    "len(test_data)"
   ]
  },
  {
   "cell_type": "code",
   "execution_count": 112,
   "id": "d8102f60",
   "metadata": {},
   "outputs": [
    {
     "data": {
      "text/plain": [
       "(1, 100)"
      ]
     },
     "execution_count": 112,
     "metadata": {},
     "output_type": "execute_result"
    }
   ],
   "source": [
    "x_input=test_data[340:].reshape(1,-1)\n",
    "x_input.shape"
   ]
  },
  {
   "cell_type": "code",
   "execution_count": 113,
   "id": "022ddc43",
   "metadata": {},
   "outputs": [],
   "source": [
    "temp_input=list(x_input)\n",
    "temp_input=temp_input[0].tolist()"
   ]
  },
  {
   "cell_type": "code",
   "execution_count": 114,
   "id": "d79339b2",
   "metadata": {},
   "outputs": [
    {
     "data": {
      "text/plain": [
       "[0.10008766437069505,\n",
       " 0.10449592986850342,\n",
       " 0.1055729492798998,\n",
       " 0.10001252348152784,\n",
       " 0.0955291170945522,\n",
       " 0.09718221665623034,\n",
       " 0.0977332498434565,\n",
       " 0.09688165309956165,\n",
       " 0.10149029430181589,\n",
       " 0.10046336881653095,\n",
       " 0.10073888541014397,\n",
       " 0.09843456480901686,\n",
       " 0.0983093299937382,\n",
       " 0.09708202880400746,\n",
       " 0.0977332498434565,\n",
       " 0.10532247964934244,\n",
       " 0.10584846587351276,\n",
       " 0.11090795241077017,\n",
       " 0.10857858484658728,\n",
       " 0.09898559799624296,\n",
       " 0.09983719474013769,\n",
       " 0.10356919223544142,\n",
       " 0.10737633061991231,\n",
       " 0.10715090795241072,\n",
       " 0.10399499060738887,\n",
       " 0.101941139636819,\n",
       " 0.1045961177207263,\n",
       " 0.11591734502191609,\n",
       " 0.11268628678772696,\n",
       " 0.11438948027551654,\n",
       " 0.11724483406386971,\n",
       " 0.11887288666249218,\n",
       " 0.12485911083281148,\n",
       " 0.12090169067000628,\n",
       " 0.11829680651221036,\n",
       " 0.1055228553537883,\n",
       " 0.10697557921102063,\n",
       " 0.10339386349405133,\n",
       " 0.10567313713212267,\n",
       " 0.10507201001878513,\n",
       " 0.09823418910457105,\n",
       " 0.0904195366311834,\n",
       " 0.0916468378209142,\n",
       " 0.09770820288040072,\n",
       " 0.10016280525986221,\n",
       " 0.10038822792736374,\n",
       " 0.09650594865372569,\n",
       " 0.08783969943644326,\n",
       " 0.09014402003757044,\n",
       " 0.08681277395115838,\n",
       " 0.08969317470256727,\n",
       " 0.08090169067000619,\n",
       " 0.08583594239198494,\n",
       " 0.08806512210394485,\n",
       " 0.09129618033813391,\n",
       " 0.09031934877896053,\n",
       " 0.09009392611145894,\n",
       " 0.0868378209142141,\n",
       " 0.08533500313087033,\n",
       " 0.09247338760175322,\n",
       " 0.09517845961177201,\n",
       " 0.09946149029430179,\n",
       " 0.10499686912961798,\n",
       " 0.10624921728240444,\n",
       " 0.10680025046963049,\n",
       " 0.10482154038822789,\n",
       " 0.10469630557294918,\n",
       " 0.10639949906073881,\n",
       " 0.10522229179711956,\n",
       " 0.11453976205385091,\n",
       " 0.10760175328741389,\n",
       " 0.10549780839073258,\n",
       " 0.10815278647463994,\n",
       " 0.11183469004383217,\n",
       " 0.1105072010018785,\n",
       " 0.11130870381966185,\n",
       " 0.10920475892298054,\n",
       " 0.11013149655604254,\n",
       " 0.10289292423293667,\n",
       " 0.10276768941765807,\n",
       " 0.10807764558547273,\n",
       " 0.10810269254852845,\n",
       " 0.11060738885410137,\n",
       " 0.11684408265497809,\n",
       " 0.12781465247338758,\n",
       " 0.13452723857232307,\n",
       " 0.13570444583594238,\n",
       " 0.13668127739511576,\n",
       " 0.13800876643706944,\n",
       " 0.12515967438948022,\n",
       " 0.1337507827175955,\n",
       " 0.14642454602379462,\n",
       " 0.14509705698184094,\n",
       " 0.14256731371321218,\n",
       " 0.1377582968065122,\n",
       " 0.146474639949906,\n",
       " 0.1611521603005635,\n",
       " 0.17092047589229803,\n",
       " 0.16961803381340007,\n",
       " 0.18186599874765175]"
      ]
     },
     "execution_count": 114,
     "metadata": {},
     "output_type": "execute_result"
    }
   ],
   "source": [
    "temp_input # all the data from test_data, # this is data of 100 days"
   ]
  },
  {
   "cell_type": "code",
   "execution_count": 115,
   "id": "0a24dd78",
   "metadata": {
    "scrolled": false
   },
   "outputs": [
    {
     "name": "stdout",
     "output_type": "stream",
     "text": [
      "[0.15101908]\n",
      "101\n",
      "1 day input [0.10449593 0.10557295 0.10001252 0.09552912 0.09718222 0.09773325\n",
      " 0.09688165 0.10149029 0.10046337 0.10073889 0.09843456 0.09830933\n",
      " 0.09708203 0.09773325 0.10532248 0.10584847 0.11090795 0.10857858\n",
      " 0.0989856  0.09983719 0.10356919 0.10737633 0.10715091 0.10399499\n",
      " 0.10194114 0.10459612 0.11591735 0.11268629 0.11438948 0.11724483\n",
      " 0.11887289 0.12485911 0.12090169 0.11829681 0.10552286 0.10697558\n",
      " 0.10339386 0.10567314 0.10507201 0.09823419 0.09041954 0.09164684\n",
      " 0.0977082  0.10016281 0.10038823 0.09650595 0.0878397  0.09014402\n",
      " 0.08681277 0.08969317 0.08090169 0.08583594 0.08806512 0.09129618\n",
      " 0.09031935 0.09009393 0.08683782 0.085335   0.09247339 0.09517846\n",
      " 0.09946149 0.10499687 0.10624922 0.10680025 0.10482154 0.10469631\n",
      " 0.1063995  0.10522229 0.11453976 0.10760175 0.10549781 0.10815279\n",
      " 0.11183469 0.1105072  0.1113087  0.10920476 0.1101315  0.10289292\n",
      " 0.10276769 0.10807765 0.10810269 0.11060739 0.11684408 0.12781465\n",
      " 0.13452724 0.13570445 0.13668128 0.13800877 0.12515967 0.13375078\n",
      " 0.14642455 0.14509706 0.14256731 0.1377583  0.14647464 0.16115216\n",
      " 0.17092048 0.16961803 0.181866   0.15101908]\n",
      "1 day output [[0.1548982]]\n",
      "2 day input [0.10557295 0.10001252 0.09552912 0.09718222 0.09773325 0.09688165\n",
      " 0.10149029 0.10046337 0.10073889 0.09843456 0.09830933 0.09708203\n",
      " 0.09773325 0.10532248 0.10584847 0.11090795 0.10857858 0.0989856\n",
      " 0.09983719 0.10356919 0.10737633 0.10715091 0.10399499 0.10194114\n",
      " 0.10459612 0.11591735 0.11268629 0.11438948 0.11724483 0.11887289\n",
      " 0.12485911 0.12090169 0.11829681 0.10552286 0.10697558 0.10339386\n",
      " 0.10567314 0.10507201 0.09823419 0.09041954 0.09164684 0.0977082\n",
      " 0.10016281 0.10038823 0.09650595 0.0878397  0.09014402 0.08681277\n",
      " 0.08969317 0.08090169 0.08583594 0.08806512 0.09129618 0.09031935\n",
      " 0.09009393 0.08683782 0.085335   0.09247339 0.09517846 0.09946149\n",
      " 0.10499687 0.10624922 0.10680025 0.10482154 0.10469631 0.1063995\n",
      " 0.10522229 0.11453976 0.10760175 0.10549781 0.10815279 0.11183469\n",
      " 0.1105072  0.1113087  0.10920476 0.1101315  0.10289292 0.10276769\n",
      " 0.10807765 0.10810269 0.11060739 0.11684408 0.12781465 0.13452724\n",
      " 0.13570445 0.13668128 0.13800877 0.12515967 0.13375078 0.14642455\n",
      " 0.14509706 0.14256731 0.1377583  0.14647464 0.16115216 0.17092048\n",
      " 0.16961803 0.181866   0.15101908 0.1548982 ]\n",
      "2 day output [[0.15709352]]\n",
      "3 day input [0.10001252 0.09552912 0.09718222 0.09773325 0.09688165 0.10149029\n",
      " 0.10046337 0.10073889 0.09843456 0.09830933 0.09708203 0.09773325\n",
      " 0.10532248 0.10584847 0.11090795 0.10857858 0.0989856  0.09983719\n",
      " 0.10356919 0.10737633 0.10715091 0.10399499 0.10194114 0.10459612\n",
      " 0.11591735 0.11268629 0.11438948 0.11724483 0.11887289 0.12485911\n",
      " 0.12090169 0.11829681 0.10552286 0.10697558 0.10339386 0.10567314\n",
      " 0.10507201 0.09823419 0.09041954 0.09164684 0.0977082  0.10016281\n",
      " 0.10038823 0.09650595 0.0878397  0.09014402 0.08681277 0.08969317\n",
      " 0.08090169 0.08583594 0.08806512 0.09129618 0.09031935 0.09009393\n",
      " 0.08683782 0.085335   0.09247339 0.09517846 0.09946149 0.10499687\n",
      " 0.10624922 0.10680025 0.10482154 0.10469631 0.1063995  0.10522229\n",
      " 0.11453976 0.10760175 0.10549781 0.10815279 0.11183469 0.1105072\n",
      " 0.1113087  0.10920476 0.1101315  0.10289292 0.10276769 0.10807765\n",
      " 0.10810269 0.11060739 0.11684408 0.12781465 0.13452724 0.13570445\n",
      " 0.13668128 0.13800877 0.12515967 0.13375078 0.14642455 0.14509706\n",
      " 0.14256731 0.1377583  0.14647464 0.16115216 0.17092048 0.16961803\n",
      " 0.181866   0.15101908 0.1548982  0.15709352]\n",
      "3 day output [[0.15785497]]\n",
      "4 day input [0.09552912 0.09718222 0.09773325 0.09688165 0.10149029 0.10046337\n",
      " 0.10073889 0.09843456 0.09830933 0.09708203 0.09773325 0.10532248\n",
      " 0.10584847 0.11090795 0.10857858 0.0989856  0.09983719 0.10356919\n",
      " 0.10737633 0.10715091 0.10399499 0.10194114 0.10459612 0.11591735\n",
      " 0.11268629 0.11438948 0.11724483 0.11887289 0.12485911 0.12090169\n",
      " 0.11829681 0.10552286 0.10697558 0.10339386 0.10567314 0.10507201\n",
      " 0.09823419 0.09041954 0.09164684 0.0977082  0.10016281 0.10038823\n",
      " 0.09650595 0.0878397  0.09014402 0.08681277 0.08969317 0.08090169\n",
      " 0.08583594 0.08806512 0.09129618 0.09031935 0.09009393 0.08683782\n",
      " 0.085335   0.09247339 0.09517846 0.09946149 0.10499687 0.10624922\n",
      " 0.10680025 0.10482154 0.10469631 0.1063995  0.10522229 0.11453976\n",
      " 0.10760175 0.10549781 0.10815279 0.11183469 0.1105072  0.1113087\n",
      " 0.10920476 0.1101315  0.10289292 0.10276769 0.10807765 0.10810269\n",
      " 0.11060739 0.11684408 0.12781465 0.13452724 0.13570445 0.13668128\n",
      " 0.13800877 0.12515967 0.13375078 0.14642455 0.14509706 0.14256731\n",
      " 0.1377583  0.14647464 0.16115216 0.17092048 0.16961803 0.181866\n",
      " 0.15101908 0.1548982  0.15709352 0.15785497]\n",
      "4 day output [[0.15759972]]\n",
      "5 day input [0.09718222 0.09773325 0.09688165 0.10149029 0.10046337 0.10073889\n",
      " 0.09843456 0.09830933 0.09708203 0.09773325 0.10532248 0.10584847\n",
      " 0.11090795 0.10857858 0.0989856  0.09983719 0.10356919 0.10737633\n",
      " 0.10715091 0.10399499 0.10194114 0.10459612 0.11591735 0.11268629\n",
      " 0.11438948 0.11724483 0.11887289 0.12485911 0.12090169 0.11829681\n",
      " 0.10552286 0.10697558 0.10339386 0.10567314 0.10507201 0.09823419\n",
      " 0.09041954 0.09164684 0.0977082  0.10016281 0.10038823 0.09650595\n",
      " 0.0878397  0.09014402 0.08681277 0.08969317 0.08090169 0.08583594\n",
      " 0.08806512 0.09129618 0.09031935 0.09009393 0.08683782 0.085335\n",
      " 0.09247339 0.09517846 0.09946149 0.10499687 0.10624922 0.10680025\n",
      " 0.10482154 0.10469631 0.1063995  0.10522229 0.11453976 0.10760175\n",
      " 0.10549781 0.10815279 0.11183469 0.1105072  0.1113087  0.10920476\n",
      " 0.1101315  0.10289292 0.10276769 0.10807765 0.10810269 0.11060739\n",
      " 0.11684408 0.12781465 0.13452724 0.13570445 0.13668128 0.13800877\n",
      " 0.12515967 0.13375078 0.14642455 0.14509706 0.14256731 0.1377583\n",
      " 0.14647464 0.16115216 0.17092048 0.16961803 0.181866   0.15101908\n",
      " 0.1548982  0.15709352 0.15785497 0.15759972]\n",
      "5 day output [[0.15670069]]\n",
      "6 day input [0.09773325 0.09688165 0.10149029 0.10046337 0.10073889 0.09843456\n",
      " 0.09830933 0.09708203 0.09773325 0.10532248 0.10584847 0.11090795\n",
      " 0.10857858 0.0989856  0.09983719 0.10356919 0.10737633 0.10715091\n",
      " 0.10399499 0.10194114 0.10459612 0.11591735 0.11268629 0.11438948\n",
      " 0.11724483 0.11887289 0.12485911 0.12090169 0.11829681 0.10552286\n",
      " 0.10697558 0.10339386 0.10567314 0.10507201 0.09823419 0.09041954\n",
      " 0.09164684 0.0977082  0.10016281 0.10038823 0.09650595 0.0878397\n",
      " 0.09014402 0.08681277 0.08969317 0.08090169 0.08583594 0.08806512\n",
      " 0.09129618 0.09031935 0.09009393 0.08683782 0.085335   0.09247339\n",
      " 0.09517846 0.09946149 0.10499687 0.10624922 0.10680025 0.10482154\n",
      " 0.10469631 0.1063995  0.10522229 0.11453976 0.10760175 0.10549781\n",
      " 0.10815279 0.11183469 0.1105072  0.1113087  0.10920476 0.1101315\n",
      " 0.10289292 0.10276769 0.10807765 0.10810269 0.11060739 0.11684408\n",
      " 0.12781465 0.13452724 0.13570445 0.13668128 0.13800877 0.12515967\n",
      " 0.13375078 0.14642455 0.14509706 0.14256731 0.1377583  0.14647464\n",
      " 0.16115216 0.17092048 0.16961803 0.181866   0.15101908 0.1548982\n",
      " 0.15709352 0.15785497 0.15759972 0.15670069]\n",
      "6 day output [[0.15542558]]\n",
      "7 day input [0.09688165 0.10149029 0.10046337 0.10073889 0.09843456 0.09830933\n",
      " 0.09708203 0.09773325 0.10532248 0.10584847 0.11090795 0.10857858\n",
      " 0.0989856  0.09983719 0.10356919 0.10737633 0.10715091 0.10399499\n",
      " 0.10194114 0.10459612 0.11591735 0.11268629 0.11438948 0.11724483\n",
      " 0.11887289 0.12485911 0.12090169 0.11829681 0.10552286 0.10697558\n",
      " 0.10339386 0.10567314 0.10507201 0.09823419 0.09041954 0.09164684\n",
      " 0.0977082  0.10016281 0.10038823 0.09650595 0.0878397  0.09014402\n",
      " 0.08681277 0.08969317 0.08090169 0.08583594 0.08806512 0.09129618\n",
      " 0.09031935 0.09009393 0.08683782 0.085335   0.09247339 0.09517846\n",
      " 0.09946149 0.10499687 0.10624922 0.10680025 0.10482154 0.10469631\n",
      " 0.1063995  0.10522229 0.11453976 0.10760175 0.10549781 0.10815279\n",
      " 0.11183469 0.1105072  0.1113087  0.10920476 0.1101315  0.10289292\n",
      " 0.10276769 0.10807765 0.10810269 0.11060739 0.11684408 0.12781465\n",
      " 0.13452724 0.13570445 0.13668128 0.13800877 0.12515967 0.13375078\n",
      " 0.14642455 0.14509706 0.14256731 0.1377583  0.14647464 0.16115216\n",
      " 0.17092048 0.16961803 0.181866   0.15101908 0.1548982  0.15709352\n",
      " 0.15785497 0.15759972 0.15670069 0.15542558]\n",
      "7 day output [[0.15394315]]\n",
      "8 day input [0.10149029 0.10046337 0.10073889 0.09843456 0.09830933 0.09708203\n",
      " 0.09773325 0.10532248 0.10584847 0.11090795 0.10857858 0.0989856\n",
      " 0.09983719 0.10356919 0.10737633 0.10715091 0.10399499 0.10194114\n",
      " 0.10459612 0.11591735 0.11268629 0.11438948 0.11724483 0.11887289\n",
      " 0.12485911 0.12090169 0.11829681 0.10552286 0.10697558 0.10339386\n",
      " 0.10567314 0.10507201 0.09823419 0.09041954 0.09164684 0.0977082\n",
      " 0.10016281 0.10038823 0.09650595 0.0878397  0.09014402 0.08681277\n",
      " 0.08969317 0.08090169 0.08583594 0.08806512 0.09129618 0.09031935\n",
      " 0.09009393 0.08683782 0.085335   0.09247339 0.09517846 0.09946149\n",
      " 0.10499687 0.10624922 0.10680025 0.10482154 0.10469631 0.1063995\n",
      " 0.10522229 0.11453976 0.10760175 0.10549781 0.10815279 0.11183469\n",
      " 0.1105072  0.1113087  0.10920476 0.1101315  0.10289292 0.10276769\n",
      " 0.10807765 0.10810269 0.11060739 0.11684408 0.12781465 0.13452724\n",
      " 0.13570445 0.13668128 0.13800877 0.12515967 0.13375078 0.14642455\n",
      " 0.14509706 0.14256731 0.1377583  0.14647464 0.16115216 0.17092048\n",
      " 0.16961803 0.181866   0.15101908 0.1548982  0.15709352 0.15785497\n",
      " 0.15759972 0.15670069 0.15542558 0.15394315]\n",
      "8 day output [[0.15235001]]\n",
      "9 day input [0.10046337 0.10073889 0.09843456 0.09830933 0.09708203 0.09773325\n",
      " 0.10532248 0.10584847 0.11090795 0.10857858 0.0989856  0.09983719\n",
      " 0.10356919 0.10737633 0.10715091 0.10399499 0.10194114 0.10459612\n",
      " 0.11591735 0.11268629 0.11438948 0.11724483 0.11887289 0.12485911\n",
      " 0.12090169 0.11829681 0.10552286 0.10697558 0.10339386 0.10567314\n",
      " 0.10507201 0.09823419 0.09041954 0.09164684 0.0977082  0.10016281\n",
      " 0.10038823 0.09650595 0.0878397  0.09014402 0.08681277 0.08969317\n",
      " 0.08090169 0.08583594 0.08806512 0.09129618 0.09031935 0.09009393\n",
      " 0.08683782 0.085335   0.09247339 0.09517846 0.09946149 0.10499687\n",
      " 0.10624922 0.10680025 0.10482154 0.10469631 0.1063995  0.10522229\n",
      " 0.11453976 0.10760175 0.10549781 0.10815279 0.11183469 0.1105072\n",
      " 0.1113087  0.10920476 0.1101315  0.10289292 0.10276769 0.10807765\n",
      " 0.10810269 0.11060739 0.11684408 0.12781465 0.13452724 0.13570445\n",
      " 0.13668128 0.13800877 0.12515967 0.13375078 0.14642455 0.14509706\n",
      " 0.14256731 0.1377583  0.14647464 0.16115216 0.17092048 0.16961803\n",
      " 0.181866   0.15101908 0.1548982  0.15709352 0.15785497 0.15759972\n",
      " 0.15670069 0.15542558 0.15394315 0.15235001]\n",
      "9 day output [[0.15069802]]\n",
      "10 day input [0.10073889 0.09843456 0.09830933 0.09708203 0.09773325 0.10532248\n",
      " 0.10584847 0.11090795 0.10857858 0.0989856  0.09983719 0.10356919\n",
      " 0.10737633 0.10715091 0.10399499 0.10194114 0.10459612 0.11591735\n",
      " 0.11268629 0.11438948 0.11724483 0.11887289 0.12485911 0.12090169\n",
      " 0.11829681 0.10552286 0.10697558 0.10339386 0.10567314 0.10507201\n",
      " 0.09823419 0.09041954 0.09164684 0.0977082  0.10016281 0.10038823\n",
      " 0.09650595 0.0878397  0.09014402 0.08681277 0.08969317 0.08090169\n",
      " 0.08583594 0.08806512 0.09129618 0.09031935 0.09009393 0.08683782\n",
      " 0.085335   0.09247339 0.09517846 0.09946149 0.10499687 0.10624922\n",
      " 0.10680025 0.10482154 0.10469631 0.1063995  0.10522229 0.11453976\n",
      " 0.10760175 0.10549781 0.10815279 0.11183469 0.1105072  0.1113087\n",
      " 0.10920476 0.1101315  0.10289292 0.10276769 0.10807765 0.10810269\n",
      " 0.11060739 0.11684408 0.12781465 0.13452724 0.13570445 0.13668128\n",
      " 0.13800877 0.12515967 0.13375078 0.14642455 0.14509706 0.14256731\n",
      " 0.1377583  0.14647464 0.16115216 0.17092048 0.16961803 0.181866\n",
      " 0.15101908 0.1548982  0.15709352 0.15785497 0.15759972 0.15670069\n",
      " 0.15542558 0.15394315 0.15235001 0.15069802]\n",
      "10 day output [[0.14901415]]\n",
      "11 day input [0.09843456 0.09830933 0.09708203 0.09773325 0.10532248 0.10584847\n",
      " 0.11090795 0.10857858 0.0989856  0.09983719 0.10356919 0.10737633\n",
      " 0.10715091 0.10399499 0.10194114 0.10459612 0.11591735 0.11268629\n",
      " 0.11438948 0.11724483 0.11887289 0.12485911 0.12090169 0.11829681\n",
      " 0.10552286 0.10697558 0.10339386 0.10567314 0.10507201 0.09823419\n",
      " 0.09041954 0.09164684 0.0977082  0.10016281 0.10038823 0.09650595\n",
      " 0.0878397  0.09014402 0.08681277 0.08969317 0.08090169 0.08583594\n",
      " 0.08806512 0.09129618 0.09031935 0.09009393 0.08683782 0.085335\n",
      " 0.09247339 0.09517846 0.09946149 0.10499687 0.10624922 0.10680025\n",
      " 0.10482154 0.10469631 0.1063995  0.10522229 0.11453976 0.10760175\n",
      " 0.10549781 0.10815279 0.11183469 0.1105072  0.1113087  0.10920476\n",
      " 0.1101315  0.10289292 0.10276769 0.10807765 0.10810269 0.11060739\n",
      " 0.11684408 0.12781465 0.13452724 0.13570445 0.13668128 0.13800877\n",
      " 0.12515967 0.13375078 0.14642455 0.14509706 0.14256731 0.1377583\n",
      " 0.14647464 0.16115216 0.17092048 0.16961803 0.181866   0.15101908\n",
      " 0.1548982  0.15709352 0.15785497 0.15759972 0.15670069 0.15542558\n",
      " 0.15394315 0.15235001 0.15069802 0.14901415]\n",
      "11 day output [[0.14731339]]\n",
      "12 day input [0.09830933 0.09708203 0.09773325 0.10532248 0.10584847 0.11090795\n",
      " 0.10857858 0.0989856  0.09983719 0.10356919 0.10737633 0.10715091\n",
      " 0.10399499 0.10194114 0.10459612 0.11591735 0.11268629 0.11438948\n",
      " 0.11724483 0.11887289 0.12485911 0.12090169 0.11829681 0.10552286\n",
      " 0.10697558 0.10339386 0.10567314 0.10507201 0.09823419 0.09041954\n",
      " 0.09164684 0.0977082  0.10016281 0.10038823 0.09650595 0.0878397\n",
      " 0.09014402 0.08681277 0.08969317 0.08090169 0.08583594 0.08806512\n",
      " 0.09129618 0.09031935 0.09009393 0.08683782 0.085335   0.09247339\n",
      " 0.09517846 0.09946149 0.10499687 0.10624922 0.10680025 0.10482154\n",
      " 0.10469631 0.1063995  0.10522229 0.11453976 0.10760175 0.10549781\n",
      " 0.10815279 0.11183469 0.1105072  0.1113087  0.10920476 0.1101315\n",
      " 0.10289292 0.10276769 0.10807765 0.10810269 0.11060739 0.11684408\n",
      " 0.12781465 0.13452724 0.13570445 0.13668128 0.13800877 0.12515967\n",
      " 0.13375078 0.14642455 0.14509706 0.14256731 0.1377583  0.14647464\n",
      " 0.16115216 0.17092048 0.16961803 0.181866   0.15101908 0.1548982\n",
      " 0.15709352 0.15785497 0.15759972 0.15670069 0.15542558 0.15394315\n",
      " 0.15235001 0.15069802 0.14901415 0.14731339]\n",
      "12 day output [[0.14560543]]\n",
      "13 day input [0.09708203 0.09773325 0.10532248 0.10584847 0.11090795 0.10857858\n",
      " 0.0989856  0.09983719 0.10356919 0.10737633 0.10715091 0.10399499\n",
      " 0.10194114 0.10459612 0.11591735 0.11268629 0.11438948 0.11724483\n",
      " 0.11887289 0.12485911 0.12090169 0.11829681 0.10552286 0.10697558\n",
      " 0.10339386 0.10567314 0.10507201 0.09823419 0.09041954 0.09164684\n",
      " 0.0977082  0.10016281 0.10038823 0.09650595 0.0878397  0.09014402\n",
      " 0.08681277 0.08969317 0.08090169 0.08583594 0.08806512 0.09129618\n",
      " 0.09031935 0.09009393 0.08683782 0.085335   0.09247339 0.09517846\n",
      " 0.09946149 0.10499687 0.10624922 0.10680025 0.10482154 0.10469631\n",
      " 0.1063995  0.10522229 0.11453976 0.10760175 0.10549781 0.10815279\n",
      " 0.11183469 0.1105072  0.1113087  0.10920476 0.1101315  0.10289292\n",
      " 0.10276769 0.10807765 0.10810269 0.11060739 0.11684408 0.12781465\n",
      " 0.13452724 0.13570445 0.13668128 0.13800877 0.12515967 0.13375078\n",
      " 0.14642455 0.14509706 0.14256731 0.1377583  0.14647464 0.16115216\n",
      " 0.17092048 0.16961803 0.181866   0.15101908 0.1548982  0.15709352\n",
      " 0.15785497 0.15759972 0.15670069 0.15542558 0.15394315 0.15235001\n",
      " 0.15069802 0.14901415 0.14731339 0.14560543]\n",
      "13 day output [[0.14389786]]\n",
      "14 day input [0.09773325 0.10532248 0.10584847 0.11090795 0.10857858 0.0989856\n",
      " 0.09983719 0.10356919 0.10737633 0.10715091 0.10399499 0.10194114\n",
      " 0.10459612 0.11591735 0.11268629 0.11438948 0.11724483 0.11887289\n",
      " 0.12485911 0.12090169 0.11829681 0.10552286 0.10697558 0.10339386\n",
      " 0.10567314 0.10507201 0.09823419 0.09041954 0.09164684 0.0977082\n",
      " 0.10016281 0.10038823 0.09650595 0.0878397  0.09014402 0.08681277\n",
      " 0.08969317 0.08090169 0.08583594 0.08806512 0.09129618 0.09031935\n",
      " 0.09009393 0.08683782 0.085335   0.09247339 0.09517846 0.09946149\n",
      " 0.10499687 0.10624922 0.10680025 0.10482154 0.10469631 0.1063995\n",
      " 0.10522229 0.11453976 0.10760175 0.10549781 0.10815279 0.11183469\n",
      " 0.1105072  0.1113087  0.10920476 0.1101315  0.10289292 0.10276769\n",
      " 0.10807765 0.10810269 0.11060739 0.11684408 0.12781465 0.13452724\n",
      " 0.13570445 0.13668128 0.13800877 0.12515967 0.13375078 0.14642455\n",
      " 0.14509706 0.14256731 0.1377583  0.14647464 0.16115216 0.17092048\n",
      " 0.16961803 0.181866   0.15101908 0.1548982  0.15709352 0.15785497\n",
      " 0.15759972 0.15670069 0.15542558 0.15394315 0.15235001 0.15069802\n",
      " 0.14901415 0.14731339 0.14560543 0.14389786]\n",
      "14 day output [[0.14219745]]\n",
      "15 day input [0.10532248 0.10584847 0.11090795 0.10857858 0.0989856  0.09983719\n",
      " 0.10356919 0.10737633 0.10715091 0.10399499 0.10194114 0.10459612\n",
      " 0.11591735 0.11268629 0.11438948 0.11724483 0.11887289 0.12485911\n",
      " 0.12090169 0.11829681 0.10552286 0.10697558 0.10339386 0.10567314\n",
      " 0.10507201 0.09823419 0.09041954 0.09164684 0.0977082  0.10016281\n",
      " 0.10038823 0.09650595 0.0878397  0.09014402 0.08681277 0.08969317\n",
      " 0.08090169 0.08583594 0.08806512 0.09129618 0.09031935 0.09009393\n",
      " 0.08683782 0.085335   0.09247339 0.09517846 0.09946149 0.10499687\n",
      " 0.10624922 0.10680025 0.10482154 0.10469631 0.1063995  0.10522229\n",
      " 0.11453976 0.10760175 0.10549781 0.10815279 0.11183469 0.1105072\n",
      " 0.1113087  0.10920476 0.1101315  0.10289292 0.10276769 0.10807765\n",
      " 0.10810269 0.11060739 0.11684408 0.12781465 0.13452724 0.13570445\n",
      " 0.13668128 0.13800877 0.12515967 0.13375078 0.14642455 0.14509706\n",
      " 0.14256731 0.1377583  0.14647464 0.16115216 0.17092048 0.16961803\n",
      " 0.181866   0.15101908 0.1548982  0.15709352 0.15785497 0.15759972\n",
      " 0.15670069 0.15542558 0.15394315 0.15235001 0.15069802 0.14901415\n",
      " 0.14731339 0.14560543 0.14389786 0.14219745]\n",
      "15 day output [[0.14051029]]\n",
      "16 day input [0.10584847 0.11090795 0.10857858 0.0989856  0.09983719 0.10356919\n",
      " 0.10737633 0.10715091 0.10399499 0.10194114 0.10459612 0.11591735\n",
      " 0.11268629 0.11438948 0.11724483 0.11887289 0.12485911 0.12090169\n",
      " 0.11829681 0.10552286 0.10697558 0.10339386 0.10567314 0.10507201\n",
      " 0.09823419 0.09041954 0.09164684 0.0977082  0.10016281 0.10038823\n",
      " 0.09650595 0.0878397  0.09014402 0.08681277 0.08969317 0.08090169\n",
      " 0.08583594 0.08806512 0.09129618 0.09031935 0.09009393 0.08683782\n",
      " 0.085335   0.09247339 0.09517846 0.09946149 0.10499687 0.10624922\n",
      " 0.10680025 0.10482154 0.10469631 0.1063995  0.10522229 0.11453976\n",
      " 0.10760175 0.10549781 0.10815279 0.11183469 0.1105072  0.1113087\n",
      " 0.10920476 0.1101315  0.10289292 0.10276769 0.10807765 0.10810269\n",
      " 0.11060739 0.11684408 0.12781465 0.13452724 0.13570445 0.13668128\n",
      " 0.13800877 0.12515967 0.13375078 0.14642455 0.14509706 0.14256731\n",
      " 0.1377583  0.14647464 0.16115216 0.17092048 0.16961803 0.181866\n",
      " 0.15101908 0.1548982  0.15709352 0.15785497 0.15759972 0.15670069\n",
      " 0.15542558 0.15394315 0.15235001 0.15069802 0.14901415 0.14731339\n",
      " 0.14560543 0.14389786 0.14219745 0.14051029]\n",
      "16 day output [[0.13884185]]\n",
      "17 day input [0.11090795 0.10857858 0.0989856  0.09983719 0.10356919 0.10737633\n",
      " 0.10715091 0.10399499 0.10194114 0.10459612 0.11591735 0.11268629\n",
      " 0.11438948 0.11724483 0.11887289 0.12485911 0.12090169 0.11829681\n",
      " 0.10552286 0.10697558 0.10339386 0.10567314 0.10507201 0.09823419\n",
      " 0.09041954 0.09164684 0.0977082  0.10016281 0.10038823 0.09650595\n",
      " 0.0878397  0.09014402 0.08681277 0.08969317 0.08090169 0.08583594\n",
      " 0.08806512 0.09129618 0.09031935 0.09009393 0.08683782 0.085335\n",
      " 0.09247339 0.09517846 0.09946149 0.10499687 0.10624922 0.10680025\n",
      " 0.10482154 0.10469631 0.1063995  0.10522229 0.11453976 0.10760175\n",
      " 0.10549781 0.10815279 0.11183469 0.1105072  0.1113087  0.10920476\n",
      " 0.1101315  0.10289292 0.10276769 0.10807765 0.10810269 0.11060739\n",
      " 0.11684408 0.12781465 0.13452724 0.13570445 0.13668128 0.13800877\n",
      " 0.12515967 0.13375078 0.14642455 0.14509706 0.14256731 0.1377583\n",
      " 0.14647464 0.16115216 0.17092048 0.16961803 0.181866   0.15101908\n",
      " 0.1548982  0.15709352 0.15785497 0.15759972 0.15670069 0.15542558\n",
      " 0.15394315 0.15235001 0.15069802 0.14901415 0.14731339 0.14560543\n",
      " 0.14389786 0.14219745 0.14051029 0.13884185]\n",
      "17 day output [[0.13719669]]\n",
      "18 day input [0.10857858 0.0989856  0.09983719 0.10356919 0.10737633 0.10715091\n",
      " 0.10399499 0.10194114 0.10459612 0.11591735 0.11268629 0.11438948\n",
      " 0.11724483 0.11887289 0.12485911 0.12090169 0.11829681 0.10552286\n",
      " 0.10697558 0.10339386 0.10567314 0.10507201 0.09823419 0.09041954\n",
      " 0.09164684 0.0977082  0.10016281 0.10038823 0.09650595 0.0878397\n",
      " 0.09014402 0.08681277 0.08969317 0.08090169 0.08583594 0.08806512\n",
      " 0.09129618 0.09031935 0.09009393 0.08683782 0.085335   0.09247339\n",
      " 0.09517846 0.09946149 0.10499687 0.10624922 0.10680025 0.10482154\n",
      " 0.10469631 0.1063995  0.10522229 0.11453976 0.10760175 0.10549781\n",
      " 0.10815279 0.11183469 0.1105072  0.1113087  0.10920476 0.1101315\n",
      " 0.10289292 0.10276769 0.10807765 0.10810269 0.11060739 0.11684408\n",
      " 0.12781465 0.13452724 0.13570445 0.13668128 0.13800877 0.12515967\n",
      " 0.13375078 0.14642455 0.14509706 0.14256731 0.1377583  0.14647464\n",
      " 0.16115216 0.17092048 0.16961803 0.181866   0.15101908 0.1548982\n",
      " 0.15709352 0.15785497 0.15759972 0.15670069 0.15542558 0.15394315\n",
      " 0.15235001 0.15069802 0.14901415 0.14731339 0.14560543 0.14389786\n",
      " 0.14219745 0.14051029 0.13884185 0.13719669]\n",
      "18 day output [[0.13557853]]\n",
      "19 day input [0.0989856  0.09983719 0.10356919 0.10737633 0.10715091 0.10399499\n",
      " 0.10194114 0.10459612 0.11591735 0.11268629 0.11438948 0.11724483\n",
      " 0.11887289 0.12485911 0.12090169 0.11829681 0.10552286 0.10697558\n",
      " 0.10339386 0.10567314 0.10507201 0.09823419 0.09041954 0.09164684\n",
      " 0.0977082  0.10016281 0.10038823 0.09650595 0.0878397  0.09014402\n",
      " 0.08681277 0.08969317 0.08090169 0.08583594 0.08806512 0.09129618\n",
      " 0.09031935 0.09009393 0.08683782 0.085335   0.09247339 0.09517846\n",
      " 0.09946149 0.10499687 0.10624922 0.10680025 0.10482154 0.10469631\n",
      " 0.1063995  0.10522229 0.11453976 0.10760175 0.10549781 0.10815279\n",
      " 0.11183469 0.1105072  0.1113087  0.10920476 0.1101315  0.10289292\n",
      " 0.10276769 0.10807765 0.10810269 0.11060739 0.11684408 0.12781465\n",
      " 0.13452724 0.13570445 0.13668128 0.13800877 0.12515967 0.13375078\n",
      " 0.14642455 0.14509706 0.14256731 0.1377583  0.14647464 0.16115216\n",
      " 0.17092048 0.16961803 0.181866   0.15101908 0.1548982  0.15709352\n",
      " 0.15785497 0.15759972 0.15670069 0.15542558 0.15394315 0.15235001\n",
      " 0.15069802 0.14901415 0.14731339 0.14560543 0.14389786 0.14219745\n",
      " 0.14051029 0.13884185 0.13719669 0.13557853]\n",
      "19 day output [[0.13399021]]\n",
      "20 day input [0.09983719 0.10356919 0.10737633 0.10715091 0.10399499 0.10194114\n",
      " 0.10459612 0.11591735 0.11268629 0.11438948 0.11724483 0.11887289\n",
      " 0.12485911 0.12090169 0.11829681 0.10552286 0.10697558 0.10339386\n",
      " 0.10567314 0.10507201 0.09823419 0.09041954 0.09164684 0.0977082\n",
      " 0.10016281 0.10038823 0.09650595 0.0878397  0.09014402 0.08681277\n",
      " 0.08969317 0.08090169 0.08583594 0.08806512 0.09129618 0.09031935\n",
      " 0.09009393 0.08683782 0.085335   0.09247339 0.09517846 0.09946149\n",
      " 0.10499687 0.10624922 0.10680025 0.10482154 0.10469631 0.1063995\n",
      " 0.10522229 0.11453976 0.10760175 0.10549781 0.10815279 0.11183469\n",
      " 0.1105072  0.1113087  0.10920476 0.1101315  0.10289292 0.10276769\n",
      " 0.10807765 0.10810269 0.11060739 0.11684408 0.12781465 0.13452724\n",
      " 0.13570445 0.13668128 0.13800877 0.12515967 0.13375078 0.14642455\n",
      " 0.14509706 0.14256731 0.1377583  0.14647464 0.16115216 0.17092048\n",
      " 0.16961803 0.181866   0.15101908 0.1548982  0.15709352 0.15785497\n",
      " 0.15759972 0.15670069 0.15542558 0.15394315 0.15235001 0.15069802\n",
      " 0.14901415 0.14731339 0.14560543 0.14389786 0.14219745 0.14051029\n",
      " 0.13884185 0.13719669 0.13557853 0.13399021]\n",
      "20 day output [[0.1324338]]\n",
      "21 day input [0.10356919 0.10737633 0.10715091 0.10399499 0.10194114 0.10459612\n",
      " 0.11591735 0.11268629 0.11438948 0.11724483 0.11887289 0.12485911\n",
      " 0.12090169 0.11829681 0.10552286 0.10697558 0.10339386 0.10567314\n",
      " 0.10507201 0.09823419 0.09041954 0.09164684 0.0977082  0.10016281\n",
      " 0.10038823 0.09650595 0.0878397  0.09014402 0.08681277 0.08969317\n",
      " 0.08090169 0.08583594 0.08806512 0.09129618 0.09031935 0.09009393\n",
      " 0.08683782 0.085335   0.09247339 0.09517846 0.09946149 0.10499687\n",
      " 0.10624922 0.10680025 0.10482154 0.10469631 0.1063995  0.10522229\n",
      " 0.11453976 0.10760175 0.10549781 0.10815279 0.11183469 0.1105072\n",
      " 0.1113087  0.10920476 0.1101315  0.10289292 0.10276769 0.10807765\n",
      " 0.10810269 0.11060739 0.11684408 0.12781465 0.13452724 0.13570445\n",
      " 0.13668128 0.13800877 0.12515967 0.13375078 0.14642455 0.14509706\n",
      " 0.14256731 0.1377583  0.14647464 0.16115216 0.17092048 0.16961803\n",
      " 0.181866   0.15101908 0.1548982  0.15709352 0.15785497 0.15759972\n",
      " 0.15670069 0.15542558 0.15394315 0.15235001 0.15069802 0.14901415\n",
      " 0.14731339 0.14560543 0.14389786 0.14219745 0.14051029 0.13884185\n",
      " 0.13719669 0.13557853 0.13399021 0.1324338 ]\n",
      "21 day output [[0.13091053]]\n",
      "22 day input [0.10737633 0.10715091 0.10399499 0.10194114 0.10459612 0.11591735\n",
      " 0.11268629 0.11438948 0.11724483 0.11887289 0.12485911 0.12090169\n",
      " 0.11829681 0.10552286 0.10697558 0.10339386 0.10567314 0.10507201\n",
      " 0.09823419 0.09041954 0.09164684 0.0977082  0.10016281 0.10038823\n",
      " 0.09650595 0.0878397  0.09014402 0.08681277 0.08969317 0.08090169\n",
      " 0.08583594 0.08806512 0.09129618 0.09031935 0.09009393 0.08683782\n",
      " 0.085335   0.09247339 0.09517846 0.09946149 0.10499687 0.10624922\n",
      " 0.10680025 0.10482154 0.10469631 0.1063995  0.10522229 0.11453976\n",
      " 0.10760175 0.10549781 0.10815279 0.11183469 0.1105072  0.1113087\n",
      " 0.10920476 0.1101315  0.10289292 0.10276769 0.10807765 0.10810269\n",
      " 0.11060739 0.11684408 0.12781465 0.13452724 0.13570445 0.13668128\n",
      " 0.13800877 0.12515967 0.13375078 0.14642455 0.14509706 0.14256731\n",
      " 0.1377583  0.14647464 0.16115216 0.17092048 0.16961803 0.181866\n",
      " 0.15101908 0.1548982  0.15709352 0.15785497 0.15759972 0.15670069\n",
      " 0.15542558 0.15394315 0.15235001 0.15069802 0.14901415 0.14731339\n",
      " 0.14560543 0.14389786 0.14219745 0.14051029 0.13884185 0.13719669\n",
      " 0.13557853 0.13399021 0.1324338  0.13091053]\n",
      "22 day output [[0.12942117]]\n",
      "23 day input [0.10715091 0.10399499 0.10194114 0.10459612 0.11591735 0.11268629\n",
      " 0.11438948 0.11724483 0.11887289 0.12485911 0.12090169 0.11829681\n",
      " 0.10552286 0.10697558 0.10339386 0.10567314 0.10507201 0.09823419\n",
      " 0.09041954 0.09164684 0.0977082  0.10016281 0.10038823 0.09650595\n",
      " 0.0878397  0.09014402 0.08681277 0.08969317 0.08090169 0.08583594\n",
      " 0.08806512 0.09129618 0.09031935 0.09009393 0.08683782 0.085335\n",
      " 0.09247339 0.09517846 0.09946149 0.10499687 0.10624922 0.10680025\n",
      " 0.10482154 0.10469631 0.1063995  0.10522229 0.11453976 0.10760175\n",
      " 0.10549781 0.10815279 0.11183469 0.1105072  0.1113087  0.10920476\n",
      " 0.1101315  0.10289292 0.10276769 0.10807765 0.10810269 0.11060739\n",
      " 0.11684408 0.12781465 0.13452724 0.13570445 0.13668128 0.13800877\n",
      " 0.12515967 0.13375078 0.14642455 0.14509706 0.14256731 0.1377583\n",
      " 0.14647464 0.16115216 0.17092048 0.16961803 0.181866   0.15101908\n",
      " 0.1548982  0.15709352 0.15785497 0.15759972 0.15670069 0.15542558\n",
      " 0.15394315 0.15235001 0.15069802 0.14901415 0.14731339 0.14560543\n",
      " 0.14389786 0.14219745 0.14051029 0.13884185 0.13719669 0.13557853\n",
      " 0.13399021 0.1324338  0.13091053 0.12942117]\n",
      "23 day output [[0.12796588]]\n",
      "24 day input [0.10399499 0.10194114 0.10459612 0.11591735 0.11268629 0.11438948\n",
      " 0.11724483 0.11887289 0.12485911 0.12090169 0.11829681 0.10552286\n",
      " 0.10697558 0.10339386 0.10567314 0.10507201 0.09823419 0.09041954\n",
      " 0.09164684 0.0977082  0.10016281 0.10038823 0.09650595 0.0878397\n",
      " 0.09014402 0.08681277 0.08969317 0.08090169 0.08583594 0.08806512\n",
      " 0.09129618 0.09031935 0.09009393 0.08683782 0.085335   0.09247339\n",
      " 0.09517846 0.09946149 0.10499687 0.10624922 0.10680025 0.10482154\n",
      " 0.10469631 0.1063995  0.10522229 0.11453976 0.10760175 0.10549781\n",
      " 0.10815279 0.11183469 0.1105072  0.1113087  0.10920476 0.1101315\n",
      " 0.10289292 0.10276769 0.10807765 0.10810269 0.11060739 0.11684408\n",
      " 0.12781465 0.13452724 0.13570445 0.13668128 0.13800877 0.12515967\n",
      " 0.13375078 0.14642455 0.14509706 0.14256731 0.1377583  0.14647464\n",
      " 0.16115216 0.17092048 0.16961803 0.181866   0.15101908 0.1548982\n",
      " 0.15709352 0.15785497 0.15759972 0.15670069 0.15542558 0.15394315\n",
      " 0.15235001 0.15069802 0.14901415 0.14731339 0.14560543 0.14389786\n",
      " 0.14219745 0.14051029 0.13884185 0.13719669 0.13557853 0.13399021\n",
      " 0.1324338  0.13091053 0.12942117 0.12796588]\n",
      "24 day output [[0.12654456]]\n",
      "25 day input [0.10194114 0.10459612 0.11591735 0.11268629 0.11438948 0.11724483\n",
      " 0.11887289 0.12485911 0.12090169 0.11829681 0.10552286 0.10697558\n",
      " 0.10339386 0.10567314 0.10507201 0.09823419 0.09041954 0.09164684\n",
      " 0.0977082  0.10016281 0.10038823 0.09650595 0.0878397  0.09014402\n",
      " 0.08681277 0.08969317 0.08090169 0.08583594 0.08806512 0.09129618\n",
      " 0.09031935 0.09009393 0.08683782 0.085335   0.09247339 0.09517846\n",
      " 0.09946149 0.10499687 0.10624922 0.10680025 0.10482154 0.10469631\n",
      " 0.1063995  0.10522229 0.11453976 0.10760175 0.10549781 0.10815279\n",
      " 0.11183469 0.1105072  0.1113087  0.10920476 0.1101315  0.10289292\n",
      " 0.10276769 0.10807765 0.10810269 0.11060739 0.11684408 0.12781465\n",
      " 0.13452724 0.13570445 0.13668128 0.13800877 0.12515967 0.13375078\n",
      " 0.14642455 0.14509706 0.14256731 0.1377583  0.14647464 0.16115216\n",
      " 0.17092048 0.16961803 0.181866   0.15101908 0.1548982  0.15709352\n",
      " 0.15785497 0.15759972 0.15670069 0.15542558 0.15394315 0.15235001\n",
      " 0.15069802 0.14901415 0.14731339 0.14560543 0.14389786 0.14219745\n",
      " 0.14051029 0.13884185 0.13719669 0.13557853 0.13399021 0.1324338\n",
      " 0.13091053 0.12942117 0.12796588 0.12654456]\n",
      "25 day output [[0.12515676]]\n",
      "26 day input [0.10459612 0.11591735 0.11268629 0.11438948 0.11724483 0.11887289\n",
      " 0.12485911 0.12090169 0.11829681 0.10552286 0.10697558 0.10339386\n",
      " 0.10567314 0.10507201 0.09823419 0.09041954 0.09164684 0.0977082\n",
      " 0.10016281 0.10038823 0.09650595 0.0878397  0.09014402 0.08681277\n",
      " 0.08969317 0.08090169 0.08583594 0.08806512 0.09129618 0.09031935\n",
      " 0.09009393 0.08683782 0.085335   0.09247339 0.09517846 0.09946149\n",
      " 0.10499687 0.10624922 0.10680025 0.10482154 0.10469631 0.1063995\n",
      " 0.10522229 0.11453976 0.10760175 0.10549781 0.10815279 0.11183469\n",
      " 0.1105072  0.1113087  0.10920476 0.1101315  0.10289292 0.10276769\n",
      " 0.10807765 0.10810269 0.11060739 0.11684408 0.12781465 0.13452724\n",
      " 0.13570445 0.13668128 0.13800877 0.12515967 0.13375078 0.14642455\n",
      " 0.14509706 0.14256731 0.1377583  0.14647464 0.16115216 0.17092048\n",
      " 0.16961803 0.181866   0.15101908 0.1548982  0.15709352 0.15785497\n",
      " 0.15759972 0.15670069 0.15542558 0.15394315 0.15235001 0.15069802\n",
      " 0.14901415 0.14731339 0.14560543 0.14389786 0.14219745 0.14051029\n",
      " 0.13884185 0.13719669 0.13557853 0.13399021 0.1324338  0.13091053\n",
      " 0.12942117 0.12796588 0.12654456 0.12515676]\n",
      "26 day output [[0.12380181]]\n",
      "27 day input [0.11591735 0.11268629 0.11438948 0.11724483 0.11887289 0.12485911\n",
      " 0.12090169 0.11829681 0.10552286 0.10697558 0.10339386 0.10567314\n",
      " 0.10507201 0.09823419 0.09041954 0.09164684 0.0977082  0.10016281\n",
      " 0.10038823 0.09650595 0.0878397  0.09014402 0.08681277 0.08969317\n",
      " 0.08090169 0.08583594 0.08806512 0.09129618 0.09031935 0.09009393\n",
      " 0.08683782 0.085335   0.09247339 0.09517846 0.09946149 0.10499687\n",
      " 0.10624922 0.10680025 0.10482154 0.10469631 0.1063995  0.10522229\n",
      " 0.11453976 0.10760175 0.10549781 0.10815279 0.11183469 0.1105072\n",
      " 0.1113087  0.10920476 0.1101315  0.10289292 0.10276769 0.10807765\n",
      " 0.10810269 0.11060739 0.11684408 0.12781465 0.13452724 0.13570445\n",
      " 0.13668128 0.13800877 0.12515967 0.13375078 0.14642455 0.14509706\n",
      " 0.14256731 0.1377583  0.14647464 0.16115216 0.17092048 0.16961803\n",
      " 0.181866   0.15101908 0.1548982  0.15709352 0.15785497 0.15759972\n",
      " 0.15670069 0.15542558 0.15394315 0.15235001 0.15069802 0.14901415\n",
      " 0.14731339 0.14560543 0.14389786 0.14219745 0.14051029 0.13884185\n",
      " 0.13719669 0.13557853 0.13399021 0.1324338  0.13091053 0.12942117\n",
      " 0.12796588 0.12654456 0.12515676 0.12380181]\n",
      "27 day output [[0.12247885]]\n",
      "28 day input [0.11268629 0.11438948 0.11724483 0.11887289 0.12485911 0.12090169\n",
      " 0.11829681 0.10552286 0.10697558 0.10339386 0.10567314 0.10507201\n",
      " 0.09823419 0.09041954 0.09164684 0.0977082  0.10016281 0.10038823\n",
      " 0.09650595 0.0878397  0.09014402 0.08681277 0.08969317 0.08090169\n",
      " 0.08583594 0.08806512 0.09129618 0.09031935 0.09009393 0.08683782\n",
      " 0.085335   0.09247339 0.09517846 0.09946149 0.10499687 0.10624922\n",
      " 0.10680025 0.10482154 0.10469631 0.1063995  0.10522229 0.11453976\n",
      " 0.10760175 0.10549781 0.10815279 0.11183469 0.1105072  0.1113087\n",
      " 0.10920476 0.1101315  0.10289292 0.10276769 0.10807765 0.10810269\n",
      " 0.11060739 0.11684408 0.12781465 0.13452724 0.13570445 0.13668128\n",
      " 0.13800877 0.12515967 0.13375078 0.14642455 0.14509706 0.14256731\n",
      " 0.1377583  0.14647464 0.16115216 0.17092048 0.16961803 0.181866\n",
      " 0.15101908 0.1548982  0.15709352 0.15785497 0.15759972 0.15670069\n",
      " 0.15542558 0.15394315 0.15235001 0.15069802 0.14901415 0.14731339\n",
      " 0.14560543 0.14389786 0.14219745 0.14051029 0.13884185 0.13719669\n",
      " 0.13557853 0.13399021 0.1324338  0.13091053 0.12942117 0.12796588\n",
      " 0.12654456 0.12515676 0.12380181 0.12247885]\n",
      "28 day output [[0.12118702]]\n",
      "29 day input [0.11438948 0.11724483 0.11887289 0.12485911 0.12090169 0.11829681\n",
      " 0.10552286 0.10697558 0.10339386 0.10567314 0.10507201 0.09823419\n",
      " 0.09041954 0.09164684 0.0977082  0.10016281 0.10038823 0.09650595\n",
      " 0.0878397  0.09014402 0.08681277 0.08969317 0.08090169 0.08583594\n",
      " 0.08806512 0.09129618 0.09031935 0.09009393 0.08683782 0.085335\n",
      " 0.09247339 0.09517846 0.09946149 0.10499687 0.10624922 0.10680025\n",
      " 0.10482154 0.10469631 0.1063995  0.10522229 0.11453976 0.10760175\n",
      " 0.10549781 0.10815279 0.11183469 0.1105072  0.1113087  0.10920476\n",
      " 0.1101315  0.10289292 0.10276769 0.10807765 0.10810269 0.11060739\n",
      " 0.11684408 0.12781465 0.13452724 0.13570445 0.13668128 0.13800877\n",
      " 0.12515967 0.13375078 0.14642455 0.14509706 0.14256731 0.1377583\n",
      " 0.14647464 0.16115216 0.17092048 0.16961803 0.181866   0.15101908\n",
      " 0.1548982  0.15709352 0.15785497 0.15759972 0.15670069 0.15542558\n",
      " 0.15394315 0.15235001 0.15069802 0.14901415 0.14731339 0.14560543\n",
      " 0.14389786 0.14219745 0.14051029 0.13884185 0.13719669 0.13557853\n",
      " 0.13399021 0.1324338  0.13091053 0.12942117 0.12796588 0.12654456\n",
      " 0.12515676 0.12380181 0.12247885 0.12118702]\n",
      "29 day output [[0.11992528]]\n",
      "[[0.15101908147335052], [0.15489819645881653], [0.15709352493286133], [0.15785497426986694], [0.15759971737861633], [0.15670068562030792], [0.15542557835578918], [0.15394315123558044], [0.15235000848770142], [0.15069802105426788], [0.14901414513587952], [0.14731338620185852], [0.1456054300069809], [0.1438978612422943], [0.14219744503498077], [0.14051029086112976], [0.13884185254573822], [0.13719668984413147], [0.13557852804660797], [0.13399021327495575], [0.13243380188941956], [0.13091053068637848], [0.1294211745262146], [0.12796588242053986], [0.12654456496238708], [0.12515676021575928], [0.1238018125295639], [0.12247885018587112], [0.12118702381849289], [0.11992528289556503]]\n"
     ]
    }
   ],
   "source": [
    "# demonstrate prediction for next 10 days\n",
    "from numpy import array\n",
    "\n",
    "lst_output=[]\n",
    "n_steps=100\n",
    "i=0\n",
    "while(i<30):\n",
    "    \n",
    "    if(len(temp_input)>100):\n",
    "        #print(temp_input)\n",
    "        x_input=np.array(temp_input[1:])\n",
    "        print(\"{} day input {}\".format(i,x_input))\n",
    "        x_input=x_input.reshape(1,-1)\n",
    "        x_input = x_input.reshape((1, n_steps, 1))\n",
    "        #print(x_input)\n",
    "        yhat = model.predict(x_input, verbose=0)\n",
    "        print(\"{} day output {}\".format(i,yhat))\n",
    "        temp_input.extend(yhat[0].tolist())\n",
    "        temp_input=temp_input[1:]\n",
    "        #print(temp_input)\n",
    "        lst_output.extend(yhat.tolist())\n",
    "        i=i+1\n",
    "    else:\n",
    "        x_input = x_input.reshape((1, n_steps,1))\n",
    "        yhat = model.predict(x_input, verbose=0)\n",
    "        print(yhat[0])\n",
    "        temp_input.extend(yhat[0].tolist())\n",
    "        print(len(temp_input))\n",
    "        lst_output.extend(yhat.tolist())\n",
    "        i=i+1\n",
    "    \n",
    "\n",
    "print(lst_output)"
   ]
  },
  {
   "cell_type": "markdown",
   "id": "c2423218",
   "metadata": {},
   "source": [
    "### Ploting "
   ]
  },
  {
   "cell_type": "code",
   "execution_count": 116,
   "id": "959d9c18",
   "metadata": {},
   "outputs": [],
   "source": [
    "day_new=np.arange(1,101)\n",
    "day_pred=np.arange(101,131) # 30 Days future "
   ]
  },
  {
   "cell_type": "code",
   "execution_count": 120,
   "id": "6e219bb7",
   "metadata": {},
   "outputs": [],
   "source": [
    "import matplotlib.pyplot as plt"
   ]
  },
  {
   "cell_type": "code",
   "execution_count": 121,
   "id": "3df91a8f",
   "metadata": {},
   "outputs": [
    {
     "data": {
      "text/plain": [
       "1257"
      ]
     },
     "execution_count": 121,
     "metadata": {},
     "output_type": "execute_result"
    }
   ],
   "source": [
    "len(df_close)"
   ]
  },
  {
   "cell_type": "code",
   "execution_count": 122,
   "id": "81bab816",
   "metadata": {},
   "outputs": [
    {
     "data": {
      "text/plain": [
       "array([[167.13436828],\n",
       "       [168.68310494],\n",
       "       [169.55958983],\n",
       "       [169.86359848],\n",
       "       [169.76168716],\n",
       "       [169.40274873],\n",
       "       [168.89366216],\n",
       "       [168.30180313],\n",
       "       [167.66574089],\n",
       "       [167.00618491],\n",
       "       [166.33389745],\n",
       "       [165.65486944],\n",
       "       [164.97296793],\n",
       "       [164.2912211 ],\n",
       "       [163.61232993],\n",
       "       [162.93873363],\n",
       "       [162.27260963],\n",
       "       [161.61577842],\n",
       "       [160.96972732],\n",
       "       [160.33559265],\n",
       "       [159.7141954 ],\n",
       "       [159.10602938],\n",
       "       [158.51140393],\n",
       "       [157.93037856],\n",
       "       [157.36291756],\n",
       "       [156.80883652],\n",
       "       [156.26787365],\n",
       "       [155.73968094],\n",
       "       [155.22391926],\n",
       "       [154.7201692 ]])"
      ]
     },
     "execution_count": 122,
     "metadata": {},
     "output_type": "execute_result"
    }
   ],
   "source": [
    "scaler.inverse_transform(lst_output)"
   ]
  },
  {
   "cell_type": "code",
   "execution_count": 139,
   "id": "b8d26107",
   "metadata": {
    "scrolled": true
   },
   "outputs": [
    {
     "data": {
      "image/png": "[encoded data removed]",
      "text/plain": [
       "<Figure size 432x288 with 1 Axes>"
      ]
     },
     "metadata": {
      "needs_background": "light"
     },
     "output_type": "display_data"
    }
   ],
   "source": [
    "plt.plot(day_new,scaler.inverse_transform(df_close[1157:]))\n",
    "plt.plot(day_pred,scaler.inverse_transform(lst_output))\n",
    "plt.savefig('30daypredict.png')\n",
    "\n",
    "\n"
   ]
  },
  {
   "cell_type": "code",
   "execution_count": 141,
   "id": "08e6b3b9",
   "metadata": {},
   "outputs": [
    {
     "data": {
      "text/plain": [
       "[<matplotlib.lines.Line2D at 0x21c7b730580>]"
      ]
     },
     "execution_count": 141,
     "metadata": {},
     "output_type": "execute_result"
    },
    {
     "data": {
      "image/png": "[encoded data removed]",
      "text/plain": [
       "<Figure size 432x288 with 1 Axes>"
      ]
     },
     "metadata": {
      "needs_background": "light"
     },
     "output_type": "display_data"
    }
   ],
   "source": [
    "df3=df_close.tolist()\n",
    "df3.extend(lst_output)\n",
    "plt.plot(df3[1200:])\n",
    "# its falling down "
   ]
  },
  {
   "cell_type": "code",
   "execution_count": 142,
   "id": "7a748237",
   "metadata": {},
   "outputs": [],
   "source": [
    "df3=scaler.inverse_transform(df3).tolist()"
   ]
  },
  {
   "cell_type": "code",
   "execution_count": 143,
   "id": "5023c8cd",
   "metadata": {},
   "outputs": [
    {
     "data": {
      "text/plain": [
       "[<matplotlib.lines.Line2D at 0x21c7b7f5070>]"
      ]
     },
     "execution_count": 143,
     "metadata": {},
     "output_type": "execute_result"
    },
    {
     "data": {
      "image/png": "[encoded data removed]",
      "text/plain": [
       "<Figure size 432x288 with 1 Axes>"
      ]
     },
     "metadata": {
      "needs_background": "light"
     },
     "output_type": "display_data"
    }
   ],
   "source": [
    "plt.plot(df3)"
   ]
  },
  {
   "cell_type": "code",
   "execution_count": null,
   "id": "fa3f41d8",
   "metadata": {},
   "outputs": [],
   "source": []
  }
 ],
 "metadata": {
  "kernelspec": {
   "display_name": "Python 3 (ipykernel)",
   "language": "python",
   "name": "python3"
  },
  "language_info": {
   "codemirror_mode": {
    "name": "ipython",
    "version": 3
   },
   "file_extension": ".py",
   "mimetype": "text/x-python",
   "name": "python",
   "nbconvert_exporter": "python",
   "pygments_lexer": "ipython3",
   "version": "3.8.12"
  }
 },
 "nbformat": 4,
 "nbformat_minor": 5
}
